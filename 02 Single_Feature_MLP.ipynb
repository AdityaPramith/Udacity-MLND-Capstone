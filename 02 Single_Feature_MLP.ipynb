{
 "cells": [
  {
   "cell_type": "code",
   "execution_count": 9,
   "metadata": {},
   "outputs": [],
   "source": [
    "import pandas as pd\n",
    "import numpy as np\n",
    "import matplotlib.pyplot as plt\n",
    "import os\n",
    "from tqdm import tqdm\n",
    "#importing Audio Visualisation Libraries\n",
    "from librosa import display\n",
    "import librosa\n",
    "#Getting the csv as dataframe using pandas\n",
    "data=pd.read_csv(\"UrbanSound8K/metadata/UrbanSound8K.csv\")"
   ]
  },
  {
   "cell_type": "code",
   "execution_count": 2,
   "metadata": {},
   "outputs": [
    {
     "data": {
      "text/html": [
       "<div>\n",
       "<style scoped>\n",
       "    .dataframe tbody tr th:only-of-type {\n",
       "        vertical-align: middle;\n",
       "    }\n",
       "\n",
       "    .dataframe tbody tr th {\n",
       "        vertical-align: top;\n",
       "    }\n",
       "\n",
       "    .dataframe thead th {\n",
       "        text-align: right;\n",
       "    }\n",
       "</style>\n",
       "<table border=\"1\" class=\"dataframe\">\n",
       "  <thead>\n",
       "    <tr style=\"text-align: right;\">\n",
       "      <th></th>\n",
       "      <th>slice_file_name</th>\n",
       "      <th>fsID</th>\n",
       "      <th>start</th>\n",
       "      <th>end</th>\n",
       "      <th>salience</th>\n",
       "      <th>fold</th>\n",
       "      <th>classID</th>\n",
       "      <th>class</th>\n",
       "    </tr>\n",
       "  </thead>\n",
       "  <tbody>\n",
       "    <tr>\n",
       "      <th>0</th>\n",
       "      <td>100032-3-0-0.wav</td>\n",
       "      <td>100032</td>\n",
       "      <td>0.0</td>\n",
       "      <td>0.317551</td>\n",
       "      <td>1</td>\n",
       "      <td>5</td>\n",
       "      <td>3</td>\n",
       "      <td>dog_bark</td>\n",
       "    </tr>\n",
       "    <tr>\n",
       "      <th>1</th>\n",
       "      <td>100263-2-0-117.wav</td>\n",
       "      <td>100263</td>\n",
       "      <td>58.5</td>\n",
       "      <td>62.500000</td>\n",
       "      <td>1</td>\n",
       "      <td>5</td>\n",
       "      <td>2</td>\n",
       "      <td>children_playing</td>\n",
       "    </tr>\n",
       "    <tr>\n",
       "      <th>2</th>\n",
       "      <td>100263-2-0-121.wav</td>\n",
       "      <td>100263</td>\n",
       "      <td>60.5</td>\n",
       "      <td>64.500000</td>\n",
       "      <td>1</td>\n",
       "      <td>5</td>\n",
       "      <td>2</td>\n",
       "      <td>children_playing</td>\n",
       "    </tr>\n",
       "    <tr>\n",
       "      <th>3</th>\n",
       "      <td>100263-2-0-126.wav</td>\n",
       "      <td>100263</td>\n",
       "      <td>63.0</td>\n",
       "      <td>67.000000</td>\n",
       "      <td>1</td>\n",
       "      <td>5</td>\n",
       "      <td>2</td>\n",
       "      <td>children_playing</td>\n",
       "    </tr>\n",
       "    <tr>\n",
       "      <th>4</th>\n",
       "      <td>100263-2-0-137.wav</td>\n",
       "      <td>100263</td>\n",
       "      <td>68.5</td>\n",
       "      <td>72.500000</td>\n",
       "      <td>1</td>\n",
       "      <td>5</td>\n",
       "      <td>2</td>\n",
       "      <td>children_playing</td>\n",
       "    </tr>\n",
       "  </tbody>\n",
       "</table>\n",
       "</div>"
      ],
      "text/plain": [
       "      slice_file_name    fsID  start        end  salience  fold  classID  \\\n",
       "0    100032-3-0-0.wav  100032    0.0   0.317551         1     5        3   \n",
       "1  100263-2-0-117.wav  100263   58.5  62.500000         1     5        2   \n",
       "2  100263-2-0-121.wav  100263   60.5  64.500000         1     5        2   \n",
       "3  100263-2-0-126.wav  100263   63.0  67.000000         1     5        2   \n",
       "4  100263-2-0-137.wav  100263   68.5  72.500000         1     5        2   \n",
       "\n",
       "              class  \n",
       "0          dog_bark  \n",
       "1  children_playing  \n",
       "2  children_playing  \n",
       "3  children_playing  \n",
       "4  children_playing  "
      ]
     },
     "execution_count": 2,
     "metadata": {},
     "output_type": "execute_result"
    }
   ],
   "source": [
    "#displaying the structure of the CSV\n",
    "data.head()"
   ]
  },
  {
   "cell_type": "code",
   "execution_count": 3,
   "metadata": {},
   "outputs": [
    {
     "name": "stderr",
     "output_type": "stream",
     "text": [
      "  1%|▌                                                                             | 67/8732 [00:30<1:06:07,  2.18it/s]C:\\Anaconda3\\lib\\site-packages\\librosa\\core\\pitch.py:146: UserWarning: Trying to estimate tuning from empty frequency set.\n",
      "  warnings.warn('Trying to estimate tuning from empty frequency set.')\n",
      "100%|████████████████████████████████████████████████████████████████████████████| 8732/8732 [1:04:30<00:00,  2.83it/s]\n"
     ]
    }
   ],
   "source": [
    "#preprocessing using all features set\n",
    "x_train=[]\n",
    "x_test=[]\n",
    "y_train=[]\n",
    "y_test=[]\n",
    "path=\"UrbanSound8K/audio/fold\"\n",
    "for i in tqdm(range(len(data))):\n",
    "    fold_no=str(data.iloc[i][\"fold\"])\n",
    "    file=data.iloc[i][\"slice_file_name\"]\n",
    "    label=data.iloc[i][\"classID\"]\n",
    "    filename=path+fold_no+\"/\"+file\n",
    "    y,sr=librosa.load(filename)\n",
    "    mfccs = np.mean(librosa.feature.mfcc(y, sr, n_mfcc=40).T,axis=0)\n",
    "    melspectrogram = np.mean(librosa.feature.melspectrogram(y=y, sr=sr, n_mels=40,fmax=8000).T,axis=0)\n",
    "    chroma_stft=np.mean(librosa.feature.chroma_stft(y=y, sr=sr,n_chroma=40).T,axis=0)\n",
    "    chroma_cq = np.mean(librosa.feature.chroma_cqt(y=y, sr=sr,n_chroma=40).T,axis=0)\n",
    "    chroma_cens = np.mean(librosa.feature.chroma_cens(y=y, sr=sr,n_chroma=40).T,axis=0)\n",
    "    features=np.reshape(np.vstack((mfccs,melspectrogram,chroma_stft,chroma_cq,chroma_cens)),(40,5))\n",
    "    if(fold_no!='10'):\n",
    "      x_train.append(features)\n",
    "      y_train.append(label)\n",
    "    else:\n",
    "      x_test.append(features)\n",
    "      y_test.append(label)"
   ]
  },
  {
   "cell_type": "code",
   "execution_count": 4,
   "metadata": {},
   "outputs": [
    {
     "data": {
      "text/plain": [
       "((7895, 40, 5), (837, 40, 5), (7895,), (837,))"
      ]
     },
     "execution_count": 4,
     "metadata": {},
     "output_type": "execute_result"
    }
   ],
   "source": [
    "#converting the lists into numpy arrays\n",
    "x_train=np.array(x_train)\n",
    "x_test=np.array(x_test)\n",
    "y_train=np.array(y_train)\n",
    "y_test=np.array(y_test)\n",
    "x_train.shape,x_test.shape,y_train.shape,y_test.shape"
   ]
  },
  {
   "cell_type": "code",
   "execution_count": 5,
   "metadata": {},
   "outputs": [
    {
     "data": {
      "text/plain": [
       "((7895, 200), (837, 200))"
      ]
     },
     "execution_count": 5,
     "metadata": {},
     "output_type": "execute_result"
    }
   ],
   "source": [
    "#reshaping into 2d to save in csv format\n",
    "x_train_2d=np.reshape(x_train,(x_train.shape[0],x_train.shape[1]*x_train.shape[2]))\n",
    "x_test_2d=np.reshape(x_test,(x_test.shape[0],x_test.shape[1]*x_test.shape[2]))\n",
    "x_train_2d.shape,x_test_2d.shape"
   ]
  },
  {
   "cell_type": "code",
   "execution_count": 6,
   "metadata": {},
   "outputs": [],
   "source": [
    "#saving the data numpy arrays\n",
    "np.savetxt(\"train_data_multi.csv\", x_train_2d, delimiter=\",\")\n",
    "np.savetxt(\"test_data_multi.csv\",x_test_2d,delimiter=\",\")\n",
    "np.savetxt(\"train_labels_multi.csv\",y_train,delimiter=\",\")\n",
    "np.savetxt(\"test_labels_multi.csv\",y_test,delimiter=\",\")"
   ]
  },
  {
   "cell_type": "code",
   "execution_count": 16,
   "metadata": {},
   "outputs": [],
   "source": [
    "#extracting data from csv files into numpy arrays\n",
    "from numpy import genfromtxt\n",
    "x_train = genfromtxt('train_data_multi.csv', delimiter=',')\n",
    "y_train = genfromtxt('train_labels_multi.csv', delimiter=',')\n",
    "x_test = genfromtxt('test_data_multi.csv', delimiter=',')\n",
    "y_test = genfromtxt('test_labels_multi.csv', delimiter=',')"
   ]
  },
  {
   "cell_type": "code",
   "execution_count": 17,
   "metadata": {},
   "outputs": [
    {
     "data": {
      "text/plain": [
       "((7895, 200), (837, 200), (7895,), (837,))"
      ]
     },
     "execution_count": 17,
     "metadata": {},
     "output_type": "execute_result"
    }
   ],
   "source": [
    "#shape\n",
    "x_train.shape,x_test.shape,y_train.shape,y_test.shape"
   ]
  },
  {
   "cell_type": "code",
   "execution_count": 18,
   "metadata": {},
   "outputs": [
    {
     "data": {
      "text/plain": [
       "((7895, 10), (837, 10))"
      ]
     },
     "execution_count": 18,
     "metadata": {},
     "output_type": "execute_result"
    }
   ],
   "source": [
    "#converting to one hot\n",
    "from keras.utils.np_utils import to_categorical\n",
    "y_train = to_categorical(y_train, num_classes=10)\n",
    "y_test = to_categorical(y_test, num_classes=10)\n",
    "y_train.shape,y_test.shape"
   ]
  },
  {
   "cell_type": "code",
   "execution_count": 19,
   "metadata": {},
   "outputs": [
    {
     "data": {
      "text/plain": [
       "((7895, 200), (837, 200))"
      ]
     },
     "execution_count": 19,
     "metadata": {},
     "output_type": "execute_result"
    }
   ],
   "source": [
    "#shapes\n",
    "x_train.shape,x_test.shape"
   ]
  },
  {
   "cell_type": "code",
   "execution_count": 20,
   "metadata": {},
   "outputs": [],
   "source": [
    "from keras import Sequential\n",
    "from keras.layers import Dense,Dropout,Activation"
   ]
  },
  {
   "cell_type": "code",
   "execution_count": 21,
   "metadata": {},
   "outputs": [],
   "source": [
    "#forming model\n",
    "model=Sequential()\n",
    "#building the model\n",
    "model.add(Dense(units=256,activation='relu',input_dim=200))\n",
    "model.add(Dropout(0.4))\n",
    "model.add(Dense(units=256,activation='relu'))\n",
    "model.add(Dropout(0.4))\n",
    "model.add(Dense(units=256,activation='relu'))\n",
    "model.add(Dropout(0.4))\n",
    "model.add(Dense(units=10,activation='softmax'))"
   ]
  },
  {
   "cell_type": "code",
   "execution_count": 22,
   "metadata": {},
   "outputs": [],
   "source": [
    "#compiling\n",
    "model.compile(optimizer='adam',loss='categorical_crossentropy',metrics=['accuracy'])"
   ]
  },
  {
   "cell_type": "code",
   "execution_count": 26,
   "metadata": {},
   "outputs": [
    {
     "name": "stdout",
     "output_type": "stream",
     "text": [
      "Train on 7895 samples, validate on 837 samples\n",
      "Epoch 1/30\n",
      "7895/7895 [==============================] - ETA: 1s - loss: 0.4582 - acc: 0.820 - ETA: 0s - loss: 0.3905 - acc: 0.870 - ETA: 0s - loss: 0.4095 - acc: 0.854 - ETA: 0s - loss: 0.4175 - acc: 0.854 - ETA: 0s - loss: 0.4064 - acc: 0.861 - ETA: 0s - loss: 0.4264 - acc: 0.855 - ETA: 0s - loss: 0.4342 - acc: 0.852 - ETA: 0s - loss: 0.4427 - acc: 0.851 - ETA: 0s - loss: 0.4325 - acc: 0.856 - ETA: 0s - loss: 0.4299 - acc: 0.856 - ETA: 0s - loss: 0.4279 - acc: 0.856 - ETA: 0s - loss: 0.4276 - acc: 0.855 - ETA: 0s - loss: 0.4349 - acc: 0.854 - ETA: 0s - loss: 0.4402 - acc: 0.853 - ETA: 0s - loss: 0.4426 - acc: 0.853 - ETA: 0s - loss: 0.4410 - acc: 0.853 - ETA: 0s - loss: 0.4398 - acc: 0.853 - ETA: 0s - loss: 0.4427 - acc: 0.852 - 1s 122us/step - loss: 0.4408 - acc: 0.8529 - val_loss: 1.2953 - val_acc: 0.6607\n",
      "Epoch 2/30\n",
      "7895/7895 [==============================] - ETA: 1s - loss: 0.5459 - acc: 0.840 - ETA: 0s - loss: 0.5000 - acc: 0.835 - ETA: 0s - loss: 0.5096 - acc: 0.832 - ETA: 0s - loss: 0.4743 - acc: 0.840 - ETA: 0s - loss: 0.4408 - acc: 0.852 - ETA: 0s - loss: 0.4516 - acc: 0.849 - ETA: 0s - loss: 0.4442 - acc: 0.850 - ETA: 0s - loss: 0.4374 - acc: 0.852 - ETA: 0s - loss: 0.4285 - acc: 0.854 - ETA: 0s - loss: 0.4259 - acc: 0.857 - ETA: 0s - loss: 0.4276 - acc: 0.858 - ETA: 0s - loss: 0.4328 - acc: 0.857 - ETA: 0s - loss: 0.4250 - acc: 0.857 - ETA: 0s - loss: 0.4315 - acc: 0.856 - ETA: 0s - loss: 0.4371 - acc: 0.854 - ETA: 0s - loss: 0.4400 - acc: 0.853 - ETA: 0s - loss: 0.4404 - acc: 0.852 - ETA: 0s - loss: 0.4381 - acc: 0.853 - 1s 121us/step - loss: 0.4409 - acc: 0.8524 - val_loss: 1.3303 - val_acc: 0.6356\n",
      "Epoch 3/30\n",
      "7895/7895 [==============================] - ETA: 1s - loss: 0.2747 - acc: 0.900 - ETA: 1s - loss: 0.3424 - acc: 0.891 - ETA: 0s - loss: 0.3589 - acc: 0.888 - ETA: 0s - loss: 0.3640 - acc: 0.883 - ETA: 0s - loss: 0.3842 - acc: 0.877 - ETA: 0s - loss: 0.3948 - acc: 0.869 - ETA: 0s - loss: 0.4037 - acc: 0.867 - ETA: 0s - loss: 0.4125 - acc: 0.863 - ETA: 0s - loss: 0.4084 - acc: 0.865 - ETA: 0s - loss: 0.4013 - acc: 0.866 - ETA: 0s - loss: 0.3994 - acc: 0.867 - ETA: 0s - loss: 0.4026 - acc: 0.866 - ETA: 0s - loss: 0.4031 - acc: 0.866 - ETA: 0s - loss: 0.4043 - acc: 0.866 - ETA: 0s - loss: 0.4095 - acc: 0.865 - ETA: 0s - loss: 0.4054 - acc: 0.866 - ETA: 0s - loss: 0.4057 - acc: 0.865 - 1s 117us/step - loss: 0.4056 - acc: 0.8659 - val_loss: 1.2861 - val_acc: 0.6511\n",
      "Epoch 4/30\n",
      "7895/7895 [==============================] - ETA: 1s - loss: 0.2658 - acc: 0.900 - ETA: 0s - loss: 0.4239 - acc: 0.860 - ETA: 0s - loss: 0.4529 - acc: 0.853 - ETA: 0s - loss: 0.4301 - acc: 0.863 - ETA: 0s - loss: 0.4179 - acc: 0.866 - ETA: 0s - loss: 0.4086 - acc: 0.872 - ETA: 0s - loss: 0.4151 - acc: 0.869 - ETA: 0s - loss: 0.4116 - acc: 0.869 - ETA: 0s - loss: 0.4028 - acc: 0.870 - ETA: 0s - loss: 0.4044 - acc: 0.868 - ETA: 0s - loss: 0.4090 - acc: 0.866 - ETA: 0s - loss: 0.4032 - acc: 0.867 - ETA: 0s - loss: 0.4080 - acc: 0.865 - ETA: 0s - loss: 0.4082 - acc: 0.865 - ETA: 0s - loss: 0.4078 - acc: 0.865 - ETA: 0s - loss: 0.4062 - acc: 0.865 - ETA: 0s - loss: 0.4079 - acc: 0.864 - ETA: 0s - loss: 0.4061 - acc: 0.865 - 1s 123us/step - loss: 0.4069 - acc: 0.8654 - val_loss: 1.4187 - val_acc: 0.6392\n",
      "Epoch 5/30\n",
      "7895/7895 [==============================] - ETA: 1s - loss: 0.5052 - acc: 0.820 - ETA: 0s - loss: 0.3755 - acc: 0.873 - ETA: 0s - loss: 0.3692 - acc: 0.880 - ETA: 0s - loss: 0.3913 - acc: 0.873 - ETA: 0s - loss: 0.3816 - acc: 0.875 - ETA: 0s - loss: 0.3750 - acc: 0.876 - ETA: 0s - loss: 0.3727 - acc: 0.875 - ETA: 0s - loss: 0.3871 - acc: 0.873 - ETA: 0s - loss: 0.3827 - acc: 0.875 - ETA: 0s - loss: 0.3831 - acc: 0.874 - ETA: 0s - loss: 0.3879 - acc: 0.872 - ETA: 0s - loss: 0.3858 - acc: 0.871 - ETA: 0s - loss: 0.3869 - acc: 0.870 - ETA: 0s - loss: 0.3856 - acc: 0.871 - ETA: 0s - loss: 0.3879 - acc: 0.872 - ETA: 0s - loss: 0.3902 - acc: 0.873 - ETA: 0s - loss: 0.3935 - acc: 0.872 - ETA: 0s - loss: 0.3998 - acc: 0.870 - ETA: 0s - loss: 0.4017 - acc: 0.870 - 1s 127us/step - loss: 0.4030 - acc: 0.8699 - val_loss: 1.3145 - val_acc: 0.6499\n",
      "Epoch 6/30\n",
      "7895/7895 [==============================] - ETA: 1s - loss: 0.3790 - acc: 0.840 - ETA: 1s - loss: 0.3822 - acc: 0.862 - ETA: 1s - loss: 0.3472 - acc: 0.880 - ETA: 0s - loss: 0.4082 - acc: 0.864 - ETA: 0s - loss: 0.4157 - acc: 0.863 - ETA: 0s - loss: 0.4055 - acc: 0.864 - ETA: 0s - loss: 0.4085 - acc: 0.862 - ETA: 0s - loss: 0.4019 - acc: 0.866 - ETA: 0s - loss: 0.4102 - acc: 0.863 - ETA: 0s - loss: 0.4161 - acc: 0.862 - ETA: 0s - loss: 0.4097 - acc: 0.865 - ETA: 0s - loss: 0.4068 - acc: 0.865 - ETA: 0s - loss: 0.4040 - acc: 0.866 - ETA: 0s - loss: 0.4065 - acc: 0.865 - ETA: 0s - loss: 0.4046 - acc: 0.866 - ETA: 0s - loss: 0.4001 - acc: 0.868 - ETA: 0s - loss: 0.4015 - acc: 0.867 - ETA: 0s - loss: 0.4032 - acc: 0.868 - ETA: 0s - loss: 0.4061 - acc: 0.867 - ETA: 0s - loss: 0.4045 - acc: 0.867 - ETA: 0s - loss: 0.4052 - acc: 0.868 - ETA: 0s - loss: 0.4069 - acc: 0.868 - ETA: 0s - loss: 0.4056 - acc: 0.868 - 1s 161us/step - loss: 0.4059 - acc: 0.8685 - val_loss: 1.4526 - val_acc: 0.6452\n",
      "Epoch 7/30\n",
      "7895/7895 [==============================] - ETA: 1s - loss: 0.3185 - acc: 0.880 - ETA: 1s - loss: 0.4408 - acc: 0.871 - ETA: 1s - loss: 0.4521 - acc: 0.870 - ETA: 1s - loss: 0.4309 - acc: 0.869 - ETA: 1s - loss: 0.4144 - acc: 0.878 - ETA: 1s - loss: 0.4173 - acc: 0.873 - ETA: 1s - loss: 0.4079 - acc: 0.876 - ETA: 1s - loss: 0.4202 - acc: 0.873 - ETA: 1s - loss: 0.4151 - acc: 0.877 - ETA: 0s - loss: 0.4167 - acc: 0.873 - ETA: 0s - loss: 0.4167 - acc: 0.872 - ETA: 0s - loss: 0.4155 - acc: 0.871 - ETA: 0s - loss: 0.4081 - acc: 0.873 - ETA: 0s - loss: 0.4072 - acc: 0.873 - ETA: 0s - loss: 0.4090 - acc: 0.871 - ETA: 0s - loss: 0.4125 - acc: 0.870 - ETA: 0s - loss: 0.4077 - acc: 0.872 - ETA: 0s - loss: 0.4150 - acc: 0.869 - ETA: 0s - loss: 0.4135 - acc: 0.870 - ETA: 0s - loss: 0.4080 - acc: 0.871 - ETA: 0s - loss: 0.4105 - acc: 0.871 - ETA: 0s - loss: 0.4042 - acc: 0.872 - ETA: 0s - loss: 0.4083 - acc: 0.870 - 1s 157us/step - loss: 0.4081 - acc: 0.8702 - val_loss: 1.3368 - val_acc: 0.6607\n",
      "Epoch 8/30\n",
      "7895/7895 [==============================] - ETA: 1s - loss: 0.1838 - acc: 0.940 - ETA: 1s - loss: 0.2583 - acc: 0.915 - ETA: 0s - loss: 0.2824 - acc: 0.905 - ETA: 0s - loss: 0.3036 - acc: 0.901 - ETA: 0s - loss: 0.3276 - acc: 0.898 - ETA: 0s - loss: 0.3438 - acc: 0.889 - ETA: 0s - loss: 0.3389 - acc: 0.888 - ETA: 0s - loss: 0.3462 - acc: 0.886 - ETA: 0s - loss: 0.3579 - acc: 0.882 - ETA: 0s - loss: 0.3552 - acc: 0.883 - ETA: 0s - loss: 0.3567 - acc: 0.883 - ETA: 0s - loss: 0.3639 - acc: 0.882 - ETA: 0s - loss: 0.3644 - acc: 0.883 - ETA: 0s - loss: 0.3688 - acc: 0.882 - ETA: 0s - loss: 0.3672 - acc: 0.882 - ETA: 0s - loss: 0.3680 - acc: 0.882 - ETA: 0s - loss: 0.3713 - acc: 0.881 - ETA: 0s - loss: 0.3739 - acc: 0.880 - ETA: 0s - loss: 0.3754 - acc: 0.879 - 1s 128us/step - loss: 0.3746 - acc: 0.8792 - val_loss: 1.3138 - val_acc: 0.6595\n",
      "Epoch 9/30\n",
      "7895/7895 [==============================] - ETA: 1s - loss: 0.3827 - acc: 0.860 - ETA: 1s - loss: 0.3245 - acc: 0.877 - ETA: 0s - loss: 0.3409 - acc: 0.878 - ETA: 0s - loss: 0.3489 - acc: 0.880 - ETA: 0s - loss: 0.3724 - acc: 0.870 - ETA: 0s - loss: 0.3575 - acc: 0.875 - ETA: 0s - loss: 0.3618 - acc: 0.877 - ETA: 0s - loss: 0.3648 - acc: 0.872 - ETA: 0s - loss: 0.3825 - acc: 0.869 - ETA: 0s - loss: 0.3843 - acc: 0.869 - ETA: 0s - loss: 0.3766 - acc: 0.873 - ETA: 0s - loss: 0.3746 - acc: 0.874 - ETA: 0s - loss: 0.3687 - acc: 0.875 - ETA: 0s - loss: 0.3707 - acc: 0.874 - ETA: 0s - loss: 0.3706 - acc: 0.875 - ETA: 0s - loss: 0.3747 - acc: 0.873 - ETA: 0s - loss: 0.3771 - acc: 0.872 - ETA: 0s - loss: 0.3779 - acc: 0.872 - ETA: 0s - loss: 0.3774 - acc: 0.873 - 1s 127us/step - loss: 0.3772 - acc: 0.8730 - val_loss: 1.3464 - val_acc: 0.6428\n",
      "Epoch 10/30\n"
     ]
    },
    {
     "name": "stdout",
     "output_type": "stream",
     "text": [
      "7895/7895 [==============================] - ETA: 1s - loss: 0.5554 - acc: 0.880 - ETA: 1s - loss: 0.3854 - acc: 0.880 - ETA: 0s - loss: 0.3475 - acc: 0.878 - ETA: 0s - loss: 0.3613 - acc: 0.880 - ETA: 0s - loss: 0.3558 - acc: 0.879 - ETA: 0s - loss: 0.3519 - acc: 0.876 - ETA: 0s - loss: 0.3557 - acc: 0.873 - ETA: 0s - loss: 0.3591 - acc: 0.873 - ETA: 0s - loss: 0.3613 - acc: 0.876 - ETA: 0s - loss: 0.3543 - acc: 0.877 - ETA: 0s - loss: 0.3562 - acc: 0.877 - ETA: 0s - loss: 0.3544 - acc: 0.878 - ETA: 0s - loss: 0.3609 - acc: 0.876 - ETA: 0s - loss: 0.3608 - acc: 0.877 - ETA: 0s - loss: 0.3690 - acc: 0.876 - ETA: 0s - loss: 0.3690 - acc: 0.876 - ETA: 0s - loss: 0.3704 - acc: 0.877 - ETA: 0s - loss: 0.3730 - acc: 0.875 - 1s 123us/step - loss: 0.3725 - acc: 0.8766 - val_loss: 1.3952 - val_acc: 0.6476\n",
      "Epoch 11/30\n",
      "7895/7895 [==============================] - ETA: 1s - loss: 0.4160 - acc: 0.880 - ETA: 0s - loss: 0.3758 - acc: 0.880 - ETA: 0s - loss: 0.3795 - acc: 0.868 - ETA: 0s - loss: 0.3876 - acc: 0.869 - ETA: 0s - loss: 0.4068 - acc: 0.864 - ETA: 0s - loss: 0.3985 - acc: 0.871 - ETA: 0s - loss: 0.3936 - acc: 0.871 - ETA: 0s - loss: 0.3871 - acc: 0.875 - ETA: 0s - loss: 0.3899 - acc: 0.874 - ETA: 0s - loss: 0.3902 - acc: 0.874 - ETA: 0s - loss: 0.3826 - acc: 0.876 - ETA: 0s - loss: 0.3808 - acc: 0.875 - ETA: 0s - loss: 0.3866 - acc: 0.873 - ETA: 0s - loss: 0.3869 - acc: 0.873 - ETA: 0s - loss: 0.3885 - acc: 0.873 - ETA: 0s - loss: 0.3929 - acc: 0.872 - ETA: 0s - loss: 0.3933 - acc: 0.871 - ETA: 0s - loss: 0.3962 - acc: 0.870 - 1s 121us/step - loss: 0.3956 - acc: 0.8703 - val_loss: 1.2882 - val_acc: 0.6559\n",
      "Epoch 12/30\n",
      "7895/7895 [==============================] - ETA: 1s - loss: 0.3719 - acc: 0.860 - ETA: 0s - loss: 0.3501 - acc: 0.860 - ETA: 0s - loss: 0.3431 - acc: 0.874 - ETA: 0s - loss: 0.3497 - acc: 0.880 - ETA: 0s - loss: 0.3446 - acc: 0.878 - ETA: 0s - loss: 0.3493 - acc: 0.880 - ETA: 0s - loss: 0.3453 - acc: 0.884 - ETA: 0s - loss: 0.3407 - acc: 0.886 - ETA: 0s - loss: 0.3440 - acc: 0.884 - ETA: 0s - loss: 0.3379 - acc: 0.887 - ETA: 0s - loss: 0.3404 - acc: 0.885 - ETA: 0s - loss: 0.3430 - acc: 0.883 - ETA: 0s - loss: 0.3460 - acc: 0.882 - ETA: 0s - loss: 0.3500 - acc: 0.881 - ETA: 0s - loss: 0.3513 - acc: 0.881 - ETA: 0s - loss: 0.3547 - acc: 0.881 - ETA: 0s - loss: 0.3561 - acc: 0.881 - ETA: 0s - loss: 0.3549 - acc: 0.882 - ETA: 0s - loss: 0.3578 - acc: 0.880 - ETA: 0s - loss: 0.3549 - acc: 0.881 - ETA: 0s - loss: 0.3522 - acc: 0.882 - 1s 141us/step - loss: 0.3519 - acc: 0.8821 - val_loss: 1.3271 - val_acc: 0.6487\n",
      "Epoch 13/30\n",
      "7895/7895 [==============================] - ETA: 1s - loss: 0.3504 - acc: 0.880 - ETA: 1s - loss: 0.2575 - acc: 0.908 - ETA: 0s - loss: 0.2735 - acc: 0.900 - ETA: 0s - loss: 0.3020 - acc: 0.897 - ETA: 0s - loss: 0.3185 - acc: 0.899 - ETA: 0s - loss: 0.3405 - acc: 0.894 - ETA: 0s - loss: 0.3414 - acc: 0.892 - ETA: 0s - loss: 0.3407 - acc: 0.889 - ETA: 0s - loss: 0.3520 - acc: 0.887 - ETA: 0s - loss: 0.3543 - acc: 0.886 - ETA: 0s - loss: 0.3541 - acc: 0.885 - ETA: 0s - loss: 0.3615 - acc: 0.882 - ETA: 0s - loss: 0.3713 - acc: 0.879 - ETA: 0s - loss: 0.3684 - acc: 0.880 - ETA: 0s - loss: 0.3656 - acc: 0.879 - ETA: 0s - loss: 0.3627 - acc: 0.880 - ETA: 0s - loss: 0.3612 - acc: 0.881 - ETA: 0s - loss: 0.3631 - acc: 0.880 - 1s 120us/step - loss: 0.3595 - acc: 0.8811 - val_loss: 1.2852 - val_acc: 0.6452\n",
      "Epoch 14/30\n",
      "7895/7895 [==============================] - ETA: 1s - loss: 0.3330 - acc: 0.860 - ETA: 0s - loss: 0.3207 - acc: 0.894 - ETA: 0s - loss: 0.3269 - acc: 0.895 - ETA: 0s - loss: 0.3426 - acc: 0.888 - ETA: 0s - loss: 0.3518 - acc: 0.884 - ETA: 0s - loss: 0.3474 - acc: 0.886 - ETA: 0s - loss: 0.3424 - acc: 0.888 - ETA: 0s - loss: 0.3396 - acc: 0.888 - ETA: 0s - loss: 0.3374 - acc: 0.888 - ETA: 0s - loss: 0.3425 - acc: 0.888 - ETA: 0s - loss: 0.3426 - acc: 0.887 - ETA: 0s - loss: 0.3427 - acc: 0.887 - ETA: 0s - loss: 0.3544 - acc: 0.884 - ETA: 0s - loss: 0.3507 - acc: 0.884 - ETA: 0s - loss: 0.3569 - acc: 0.883 - ETA: 0s - loss: 0.3634 - acc: 0.882 - ETA: 0s - loss: 0.3643 - acc: 0.882 - 1s 113us/step - loss: 0.3643 - acc: 0.8821 - val_loss: 1.3102 - val_acc: 0.6487\n",
      "Epoch 15/30\n",
      "7895/7895 [==============================] - ETA: 1s - loss: 0.3512 - acc: 0.920 - ETA: 0s - loss: 0.3146 - acc: 0.912 - ETA: 0s - loss: 0.2779 - acc: 0.914 - ETA: 0s - loss: 0.2925 - acc: 0.907 - ETA: 0s - loss: 0.3020 - acc: 0.905 - ETA: 0s - loss: 0.3055 - acc: 0.906 - ETA: 0s - loss: 0.3151 - acc: 0.901 - ETA: 0s - loss: 0.3225 - acc: 0.898 - ETA: 0s - loss: 0.3206 - acc: 0.897 - ETA: 0s - loss: 0.3217 - acc: 0.897 - ETA: 0s - loss: 0.3218 - acc: 0.896 - ETA: 0s - loss: 0.3246 - acc: 0.895 - ETA: 0s - loss: 0.3242 - acc: 0.894 - ETA: 0s - loss: 0.3254 - acc: 0.894 - ETA: 0s - loss: 0.3237 - acc: 0.894 - ETA: 0s - loss: 0.3219 - acc: 0.895 - ETA: 0s - loss: 0.3243 - acc: 0.894 - ETA: 0s - loss: 0.3251 - acc: 0.894 - ETA: 0s - loss: 0.3304 - acc: 0.893 - ETA: 0s - loss: 0.3317 - acc: 0.893 - ETA: 0s - loss: 0.3318 - acc: 0.893 - 1s 142us/step - loss: 0.3354 - acc: 0.8931 - val_loss: 1.4402 - val_acc: 0.6452\n",
      "Epoch 16/30\n",
      "7895/7895 [==============================] - ETA: 1s - loss: 0.3882 - acc: 0.820 - ETA: 0s - loss: 0.3051 - acc: 0.891 - ETA: 0s - loss: 0.3007 - acc: 0.893 - ETA: 0s - loss: 0.3304 - acc: 0.888 - ETA: 0s - loss: 0.3344 - acc: 0.883 - ETA: 0s - loss: 0.3228 - acc: 0.887 - ETA: 0s - loss: 0.3317 - acc: 0.884 - ETA: 0s - loss: 0.3288 - acc: 0.885 - ETA: 0s - loss: 0.3348 - acc: 0.885 - ETA: 0s - loss: 0.3296 - acc: 0.886 - ETA: 0s - loss: 0.3347 - acc: 0.886 - ETA: 0s - loss: 0.3358 - acc: 0.886 - ETA: 0s - loss: 0.3373 - acc: 0.886 - ETA: 0s - loss: 0.3345 - acc: 0.886 - ETA: 0s - loss: 0.3351 - acc: 0.887 - ETA: 0s - loss: 0.3452 - acc: 0.885 - ETA: 0s - loss: 0.3442 - acc: 0.885 - ETA: 0s - loss: 0.3477 - acc: 0.884 - ETA: 0s - loss: 0.3489 - acc: 0.884 - ETA: 0s - loss: 0.3500 - acc: 0.883 - 1s 137us/step - loss: 0.3515 - acc: 0.8831 - val_loss: 1.3352 - val_acc: 0.6452\n",
      "Epoch 17/30\n",
      "7895/7895 [==============================] - ETA: 1s - loss: 0.2210 - acc: 0.940 - ETA: 1s - loss: 0.3495 - acc: 0.884 - ETA: 0s - loss: 0.3227 - acc: 0.897 - ETA: 0s - loss: 0.3251 - acc: 0.896 - ETA: 0s - loss: 0.3234 - acc: 0.897 - ETA: 0s - loss: 0.3174 - acc: 0.901 - ETA: 0s - loss: 0.3223 - acc: 0.900 - ETA: 0s - loss: 0.3219 - acc: 0.900 - ETA: 0s - loss: 0.3135 - acc: 0.902 - ETA: 0s - loss: 0.3216 - acc: 0.900 - ETA: 0s - loss: 0.3231 - acc: 0.900 - ETA: 0s - loss: 0.3188 - acc: 0.899 - ETA: 0s - loss: 0.3157 - acc: 0.899 - ETA: 0s - loss: 0.3186 - acc: 0.898 - ETA: 0s - loss: 0.3203 - acc: 0.897 - ETA: 0s - loss: 0.3212 - acc: 0.898 - ETA: 0s - loss: 0.3228 - acc: 0.897 - ETA: 0s - loss: 0.3241 - acc: 0.897 - 1s 122us/step - loss: 0.3264 - acc: 0.8958 - val_loss: 1.4522 - val_acc: 0.6440\n",
      "Epoch 18/30\n",
      "7895/7895 [==============================] - ETA: 1s - loss: 0.3597 - acc: 0.860 - ETA: 0s - loss: 0.3029 - acc: 0.893 - ETA: 0s - loss: 0.2932 - acc: 0.894 - ETA: 0s - loss: 0.2932 - acc: 0.897 - ETA: 0s - loss: 0.3055 - acc: 0.894 - ETA: 0s - loss: 0.3148 - acc: 0.896 - ETA: 0s - loss: 0.3131 - acc: 0.896 - ETA: 0s - loss: 0.3142 - acc: 0.896 - ETA: 0s - loss: 0.3224 - acc: 0.894 - ETA: 0s - loss: 0.3223 - acc: 0.894 - ETA: 0s - loss: 0.3239 - acc: 0.894 - ETA: 0s - loss: 0.3243 - acc: 0.893 - ETA: 0s - loss: 0.3207 - acc: 0.894 - ETA: 0s - loss: 0.3201 - acc: 0.894 - ETA: 0s - loss: 0.3249 - acc: 0.892 - ETA: 0s - loss: 0.3245 - acc: 0.892 - ETA: 0s - loss: 0.3267 - acc: 0.892 - ETA: 0s - loss: 0.3266 - acc: 0.892 - 1s 120us/step - loss: 0.3277 - acc: 0.8922 - val_loss: 1.4270 - val_acc: 0.6487\n",
      "Epoch 19/30\n"
     ]
    },
    {
     "name": "stdout",
     "output_type": "stream",
     "text": [
      "7895/7895 [==============================] - ETA: 1s - loss: 0.5446 - acc: 0.840 - ETA: 0s - loss: 0.3305 - acc: 0.895 - ETA: 0s - loss: 0.3627 - acc: 0.891 - ETA: 0s - loss: 0.3802 - acc: 0.884 - ETA: 0s - loss: 0.3716 - acc: 0.883 - ETA: 0s - loss: 0.3733 - acc: 0.881 - ETA: 0s - loss: 0.3560 - acc: 0.885 - ETA: 0s - loss: 0.3559 - acc: 0.884 - ETA: 0s - loss: 0.3497 - acc: 0.883 - ETA: 0s - loss: 0.3429 - acc: 0.885 - ETA: 0s - loss: 0.3401 - acc: 0.886 - ETA: 0s - loss: 0.3354 - acc: 0.888 - ETA: 0s - loss: 0.3326 - acc: 0.890 - ETA: 0s - loss: 0.3362 - acc: 0.889 - ETA: 0s - loss: 0.3370 - acc: 0.891 - ETA: 0s - loss: 0.3331 - acc: 0.892 - ETA: 0s - loss: 0.3317 - acc: 0.892 - ETA: 0s - loss: 0.3278 - acc: 0.894 - ETA: 0s - loss: 0.3316 - acc: 0.893 - 1s 126us/step - loss: 0.3293 - acc: 0.8942 - val_loss: 1.3314 - val_acc: 0.6487\n",
      "Epoch 20/30\n",
      "7895/7895 [==============================] - ETA: 1s - loss: 0.3116 - acc: 0.880 - ETA: 1s - loss: 0.2812 - acc: 0.886 - ETA: 0s - loss: 0.3099 - acc: 0.890 - ETA: 0s - loss: 0.3036 - acc: 0.893 - ETA: 0s - loss: 0.3203 - acc: 0.890 - ETA: 0s - loss: 0.3223 - acc: 0.886 - ETA: 0s - loss: 0.3311 - acc: 0.886 - ETA: 0s - loss: 0.3279 - acc: 0.887 - ETA: 0s - loss: 0.3373 - acc: 0.887 - ETA: 0s - loss: 0.3315 - acc: 0.890 - ETA: 0s - loss: 0.3311 - acc: 0.890 - ETA: 0s - loss: 0.3376 - acc: 0.888 - ETA: 0s - loss: 0.3380 - acc: 0.889 - ETA: 0s - loss: 0.3363 - acc: 0.889 - ETA: 0s - loss: 0.3358 - acc: 0.889 - ETA: 0s - loss: 0.3319 - acc: 0.890 - ETA: 0s - loss: 0.3295 - acc: 0.891 - ETA: 0s - loss: 0.3335 - acc: 0.890 - ETA: 0s - loss: 0.3305 - acc: 0.891 - ETA: 0s - loss: 0.3265 - acc: 0.892 - 1s 135us/step - loss: 0.3254 - acc: 0.8932 - val_loss: 1.4018 - val_acc: 0.6356\n",
      "Epoch 21/30\n",
      "7895/7895 [==============================] - ETA: 1s - loss: 0.2501 - acc: 0.920 - ETA: 1s - loss: 0.2583 - acc: 0.922 - ETA: 0s - loss: 0.2946 - acc: 0.910 - ETA: 0s - loss: 0.3098 - acc: 0.903 - ETA: 0s - loss: 0.3282 - acc: 0.896 - ETA: 0s - loss: 0.3200 - acc: 0.896 - ETA: 0s - loss: 0.3134 - acc: 0.897 - ETA: 0s - loss: 0.3161 - acc: 0.897 - ETA: 0s - loss: 0.3150 - acc: 0.897 - ETA: 0s - loss: 0.3177 - acc: 0.897 - ETA: 0s - loss: 0.3185 - acc: 0.895 - ETA: 0s - loss: 0.3231 - acc: 0.893 - ETA: 0s - loss: 0.3278 - acc: 0.891 - ETA: 0s - loss: 0.3247 - acc: 0.893 - ETA: 0s - loss: 0.3280 - acc: 0.892 - ETA: 0s - loss: 0.3253 - acc: 0.893 - ETA: 0s - loss: 0.3294 - acc: 0.891 - ETA: 0s - loss: 0.3283 - acc: 0.892 - ETA: 0s - loss: 0.3300 - acc: 0.892 - 1s 126us/step - loss: 0.3295 - acc: 0.8927 - val_loss: 1.4161 - val_acc: 0.6583\n",
      "Epoch 22/30\n",
      "7895/7895 [==============================] - ETA: 1s - loss: 0.1231 - acc: 0.960 - ETA: 1s - loss: 0.2447 - acc: 0.922 - ETA: 0s - loss: 0.2661 - acc: 0.913 - ETA: 0s - loss: 0.2776 - acc: 0.917 - ETA: 0s - loss: 0.2761 - acc: 0.911 - ETA: 0s - loss: 0.2738 - acc: 0.913 - ETA: 0s - loss: 0.2861 - acc: 0.910 - ETA: 0s - loss: 0.2972 - acc: 0.907 - ETA: 0s - loss: 0.2963 - acc: 0.905 - ETA: 0s - loss: 0.3003 - acc: 0.908 - ETA: 0s - loss: 0.3077 - acc: 0.906 - ETA: 0s - loss: 0.3138 - acc: 0.904 - ETA: 0s - loss: 0.3131 - acc: 0.906 - ETA: 0s - loss: 0.3155 - acc: 0.904 - ETA: 0s - loss: 0.3197 - acc: 0.901 - ETA: 0s - loss: 0.3164 - acc: 0.902 - ETA: 0s - loss: 0.3179 - acc: 0.902 - ETA: 0s - loss: 0.3184 - acc: 0.902 - 1s 124us/step - loss: 0.3268 - acc: 0.8998 - val_loss: 1.3950 - val_acc: 0.6798\n",
      "Epoch 23/30\n",
      "7895/7895 [==============================] - ETA: 1s - loss: 0.2139 - acc: 0.940 - ETA: 0s - loss: 0.3208 - acc: 0.900 - ETA: 0s - loss: 0.3260 - acc: 0.891 - ETA: 0s - loss: 0.3202 - acc: 0.892 - ETA: 0s - loss: 0.3238 - acc: 0.892 - ETA: 0s - loss: 0.3190 - acc: 0.894 - ETA: 0s - loss: 0.3147 - acc: 0.894 - ETA: 0s - loss: 0.3174 - acc: 0.895 - ETA: 0s - loss: 0.3150 - acc: 0.898 - ETA: 0s - loss: 0.3146 - acc: 0.897 - ETA: 0s - loss: 0.3131 - acc: 0.897 - ETA: 0s - loss: 0.3124 - acc: 0.896 - ETA: 0s - loss: 0.3069 - acc: 0.897 - ETA: 0s - loss: 0.3102 - acc: 0.898 - ETA: 0s - loss: 0.3078 - acc: 0.898 - ETA: 0s - loss: 0.3166 - acc: 0.897 - ETA: 0s - loss: 0.3151 - acc: 0.898 - ETA: 0s - loss: 0.3219 - acc: 0.896 - 1s 123us/step - loss: 0.3250 - acc: 0.8947 - val_loss: 1.4571 - val_acc: 0.6583\n",
      "Epoch 24/30\n",
      "7895/7895 [==============================] - ETA: 1s - loss: 0.3493 - acc: 0.860 - ETA: 0s - loss: 0.3395 - acc: 0.886 - ETA: 0s - loss: 0.3289 - acc: 0.888 - ETA: 0s - loss: 0.3353 - acc: 0.890 - ETA: 0s - loss: 0.3317 - acc: 0.885 - ETA: 0s - loss: 0.3280 - acc: 0.887 - ETA: 0s - loss: 0.3350 - acc: 0.885 - ETA: 0s - loss: 0.3296 - acc: 0.886 - ETA: 0s - loss: 0.3315 - acc: 0.887 - ETA: 0s - loss: 0.3324 - acc: 0.888 - ETA: 0s - loss: 0.3243 - acc: 0.892 - ETA: 0s - loss: 0.3240 - acc: 0.892 - ETA: 0s - loss: 0.3222 - acc: 0.892 - ETA: 0s - loss: 0.3283 - acc: 0.891 - ETA: 0s - loss: 0.3307 - acc: 0.889 - ETA: 0s - loss: 0.3332 - acc: 0.889 - ETA: 0s - loss: 0.3336 - acc: 0.889 - ETA: 0s - loss: 0.3316 - acc: 0.891 - 1s 124us/step - loss: 0.3302 - acc: 0.8923 - val_loss: 1.4745 - val_acc: 0.6416\n",
      "Epoch 25/30\n",
      "7895/7895 [==============================] - ETA: 1s - loss: 0.4037 - acc: 0.840 - ETA: 0s - loss: 0.3187 - acc: 0.890 - ETA: 0s - loss: 0.2895 - acc: 0.902 - ETA: 0s - loss: 0.3128 - acc: 0.895 - ETA: 0s - loss: 0.3141 - acc: 0.897 - ETA: 0s - loss: 0.3067 - acc: 0.900 - ETA: 0s - loss: 0.3036 - acc: 0.900 - ETA: 0s - loss: 0.2995 - acc: 0.901 - ETA: 0s - loss: 0.2984 - acc: 0.901 - ETA: 0s - loss: 0.2987 - acc: 0.901 - ETA: 0s - loss: 0.2962 - acc: 0.901 - ETA: 0s - loss: 0.2997 - acc: 0.900 - ETA: 0s - loss: 0.2977 - acc: 0.900 - ETA: 0s - loss: 0.2968 - acc: 0.900 - ETA: 0s - loss: 0.2959 - acc: 0.900 - ETA: 0s - loss: 0.2945 - acc: 0.901 - ETA: 0s - loss: 0.2975 - acc: 0.901 - ETA: 0s - loss: 0.2964 - acc: 0.901 - ETA: 0s - loss: 0.2953 - acc: 0.902 - ETA: 0s - loss: 0.2929 - acc: 0.903 - 1s 136us/step - loss: 0.2946 - acc: 0.9027 - val_loss: 1.4206 - val_acc: 0.6559\n",
      "Epoch 26/30\n",
      "7895/7895 [==============================] - ETA: 1s - loss: 0.2189 - acc: 0.940 - ETA: 1s - loss: 0.3162 - acc: 0.895 - ETA: 1s - loss: 0.3100 - acc: 0.887 - ETA: 0s - loss: 0.3181 - acc: 0.886 - ETA: 0s - loss: 0.3069 - acc: 0.890 - ETA: 0s - loss: 0.2982 - acc: 0.896 - ETA: 0s - loss: 0.2951 - acc: 0.895 - ETA: 0s - loss: 0.3119 - acc: 0.894 - ETA: 0s - loss: 0.3053 - acc: 0.899 - ETA: 0s - loss: 0.3012 - acc: 0.900 - ETA: 0s - loss: 0.3013 - acc: 0.901 - ETA: 0s - loss: 0.3045 - acc: 0.900 - ETA: 0s - loss: 0.3109 - acc: 0.898 - ETA: 0s - loss: 0.3107 - acc: 0.899 - ETA: 0s - loss: 0.3104 - acc: 0.900 - ETA: 0s - loss: 0.3071 - acc: 0.901 - ETA: 0s - loss: 0.3041 - acc: 0.901 - ETA: 0s - loss: 0.3040 - acc: 0.901 - ETA: 0s - loss: 0.3015 - acc: 0.902 - ETA: 0s - loss: 0.3061 - acc: 0.901 - ETA: 0s - loss: 0.3080 - acc: 0.901 - 1s 141us/step - loss: 0.3071 - acc: 0.9015 - val_loss: 1.4917 - val_acc: 0.6320\n",
      "Epoch 27/30\n",
      "7895/7895 [==============================] - ETA: 2s - loss: 0.4654 - acc: 0.860 - ETA: 1s - loss: 0.2781 - acc: 0.912 - ETA: 1s - loss: 0.3039 - acc: 0.909 - ETA: 1s - loss: 0.2753 - acc: 0.920 - ETA: 0s - loss: 0.2711 - acc: 0.915 - ETA: 0s - loss: 0.2872 - acc: 0.911 - ETA: 0s - loss: 0.2954 - acc: 0.909 - ETA: 0s - loss: 0.2988 - acc: 0.908 - ETA: 0s - loss: 0.2940 - acc: 0.908 - ETA: 0s - loss: 0.2930 - acc: 0.910 - ETA: 0s - loss: 0.2967 - acc: 0.908 - ETA: 0s - loss: 0.3007 - acc: 0.907 - ETA: 0s - loss: 0.2988 - acc: 0.906 - ETA: 0s - loss: 0.2977 - acc: 0.906 - ETA: 0s - loss: 0.3012 - acc: 0.904 - ETA: 0s - loss: 0.3018 - acc: 0.904 - ETA: 0s - loss: 0.3051 - acc: 0.903 - ETA: 0s - loss: 0.3034 - acc: 0.904 - ETA: 0s - loss: 0.3047 - acc: 0.903 - ETA: 0s - loss: 0.3038 - acc: 0.903 - ETA: 0s - loss: 0.3068 - acc: 0.901 - 1s 142us/step - loss: 0.3073 - acc: 0.9020 - val_loss: 1.4314 - val_acc: 0.6487\n",
      "Epoch 28/30\n"
     ]
    },
    {
     "name": "stdout",
     "output_type": "stream",
     "text": [
      "7895/7895 [==============================] - ETA: 1s - loss: 0.4663 - acc: 0.860 - ETA: 1s - loss: 0.3202 - acc: 0.888 - ETA: 1s - loss: 0.2972 - acc: 0.896 - ETA: 0s - loss: 0.3118 - acc: 0.891 - ETA: 0s - loss: 0.2973 - acc: 0.898 - ETA: 0s - loss: 0.3074 - acc: 0.898 - ETA: 0s - loss: 0.3175 - acc: 0.895 - ETA: 0s - loss: 0.3164 - acc: 0.896 - ETA: 0s - loss: 0.3149 - acc: 0.897 - ETA: 0s - loss: 0.3163 - acc: 0.897 - ETA: 0s - loss: 0.3137 - acc: 0.898 - ETA: 0s - loss: 0.3154 - acc: 0.897 - ETA: 0s - loss: 0.3106 - acc: 0.899 - ETA: 0s - loss: 0.3127 - acc: 0.899 - ETA: 0s - loss: 0.3100 - acc: 0.900 - ETA: 0s - loss: 0.3073 - acc: 0.902 - ETA: 0s - loss: 0.3031 - acc: 0.902 - ETA: 0s - loss: 0.3057 - acc: 0.902 - ETA: 0s - loss: 0.3050 - acc: 0.901 - ETA: 0s - loss: 0.3086 - acc: 0.901 - 1s 138us/step - loss: 0.3067 - acc: 0.9025 - val_loss: 1.5335 - val_acc: 0.6404\n",
      "Epoch 29/30\n",
      "7895/7895 [==============================] - ETA: 1s - loss: 0.2523 - acc: 0.880 - ETA: 1s - loss: 0.2444 - acc: 0.915 - ETA: 0s - loss: 0.2456 - acc: 0.911 - ETA: 0s - loss: 0.2502 - acc: 0.905 - ETA: 0s - loss: 0.2630 - acc: 0.904 - ETA: 0s - loss: 0.2551 - acc: 0.909 - ETA: 0s - loss: 0.2677 - acc: 0.907 - ETA: 0s - loss: 0.2808 - acc: 0.907 - ETA: 0s - loss: 0.2875 - acc: 0.907 - ETA: 0s - loss: 0.2947 - acc: 0.903 - ETA: 0s - loss: 0.2962 - acc: 0.903 - ETA: 0s - loss: 0.2946 - acc: 0.903 - ETA: 0s - loss: 0.2977 - acc: 0.901 - ETA: 0s - loss: 0.2940 - acc: 0.902 - ETA: 0s - loss: 0.3000 - acc: 0.901 - ETA: 0s - loss: 0.2999 - acc: 0.901 - ETA: 0s - loss: 0.2993 - acc: 0.900 - ETA: 0s - loss: 0.2986 - acc: 0.900 - ETA: 0s - loss: 0.3004 - acc: 0.900 - ETA: 0s - loss: 0.2999 - acc: 0.898 - 1s 135us/step - loss: 0.2996 - acc: 0.8987 - val_loss: 1.4597 - val_acc: 0.6547\n",
      "Epoch 30/30\n",
      "7895/7895 [==============================] - ETA: 1s - loss: 0.1919 - acc: 0.940 - ETA: 1s - loss: 0.3673 - acc: 0.893 - ETA: 1s - loss: 0.3320 - acc: 0.895 - ETA: 1s - loss: 0.3144 - acc: 0.903 - ETA: 0s - loss: 0.3114 - acc: 0.902 - ETA: 0s - loss: 0.3165 - acc: 0.901 - ETA: 0s - loss: 0.2984 - acc: 0.905 - ETA: 0s - loss: 0.2908 - acc: 0.907 - ETA: 0s - loss: 0.2882 - acc: 0.910 - ETA: 0s - loss: 0.2852 - acc: 0.910 - ETA: 0s - loss: 0.2821 - acc: 0.910 - ETA: 0s - loss: 0.2866 - acc: 0.909 - ETA: 0s - loss: 0.2936 - acc: 0.907 - ETA: 0s - loss: 0.2915 - acc: 0.907 - ETA: 0s - loss: 0.2923 - acc: 0.906 - ETA: 0s - loss: 0.2927 - acc: 0.907 - ETA: 0s - loss: 0.2942 - acc: 0.907 - ETA: 0s - loss: 0.2990 - acc: 0.906 - ETA: 0s - loss: 0.2982 - acc: 0.904 - ETA: 0s - loss: 0.3012 - acc: 0.903 - 1s 138us/step - loss: 0.2993 - acc: 0.9036 - val_loss: 1.4064 - val_acc: 0.6583\n"
     ]
    },
    {
     "data": {
      "text/plain": [
       "<keras.callbacks.History at 0x2aebc008358>"
      ]
     },
     "execution_count": 26,
     "metadata": {},
     "output_type": "execute_result"
    }
   ],
   "source": [
    "#fitting\n",
    "model.fit(x_train,y_train,epochs=30,validation_data=(x_test,y_test),batch_size=50)"
   ]
  },
  {
   "cell_type": "code",
   "execution_count": 24,
   "metadata": {},
   "outputs": [
    {
     "name": "stdout",
     "output_type": "stream",
     "text": [
      "_________________________________________________________________\n",
      "Layer (type)                 Output Shape              Param #   \n",
      "=================================================================\n",
      "dense_5 (Dense)              (None, 256)               51456     \n",
      "_________________________________________________________________\n",
      "dropout_4 (Dropout)          (None, 256)               0         \n",
      "_________________________________________________________________\n",
      "dense_6 (Dense)              (None, 256)               65792     \n",
      "_________________________________________________________________\n",
      "dropout_5 (Dropout)          (None, 256)               0         \n",
      "_________________________________________________________________\n",
      "dense_7 (Dense)              (None, 256)               65792     \n",
      "_________________________________________________________________\n",
      "dropout_6 (Dropout)          (None, 256)               0         \n",
      "_________________________________________________________________\n",
      "dense_8 (Dense)              (None, 10)                2570      \n",
      "=================================================================\n",
      "Total params: 185,610\n",
      "Trainable params: 185,610\n",
      "Non-trainable params: 0\n",
      "_________________________________________________________________\n",
      "7895/7895 [==============================] - ETA:  - ETA:  - ETA:  - ETA:  - ETA:  - ETA:  - ETA:  - 0s 43us/step\n",
      "837/837 [==============================] - ETA:  - 0s 45us/step\n"
     ]
    }
   ],
   "source": [
    "model.summary()\n",
    "\n",
    "# Calculate pre-training accuracy \n",
    "score_train = model.evaluate(x_train, y_train, verbose=1)\n",
    "score_test = model.evaluate(x_test, y_test, verbose=1)\n",
    "accuracy_train = 100*score_train[1]\n",
    "accuracy_test = 100*score_test[1]"
   ]
  },
  {
   "cell_type": "code",
   "execution_count": 25,
   "metadata": {},
   "outputs": [
    {
     "name": "stdout",
     "output_type": "stream",
     "text": [
      "Training accuracy: 93.2489%\n",
      "Test accuracy: 62.8435%\n"
     ]
    }
   ],
   "source": [
    "print(\"Training accuracy: %.4f%%\" % accuracy_train)\n",
    "print(\"Test accuracy: %.4f%%\" % accuracy_test)"
   ]
  },
  {
   "cell_type": "code",
   "execution_count": null,
   "metadata": {},
   "outputs": [],
   "source": []
  }
 ],
 "metadata": {
  "kernelspec": {
   "display_name": "Python 3",
   "language": "python",
   "name": "python3"
  },
  "language_info": {
   "codemirror_mode": {
    "name": "ipython",
    "version": 3
   },
   "file_extension": ".py",
   "mimetype": "text/x-python",
   "name": "python",
   "nbconvert_exporter": "python",
   "pygments_lexer": "ipython3",
   "version": "3.6.9"
  }
 },
 "nbformat": 4,
 "nbformat_minor": 2
}
