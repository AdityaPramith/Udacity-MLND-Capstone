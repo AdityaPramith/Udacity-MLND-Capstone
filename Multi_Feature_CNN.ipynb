{
 "cells": [
  {
   "cell_type": "code",
   "execution_count": 6,
   "metadata": {},
   "outputs": [],
   "source": [
    "#extracting data from csv files into numpy arrays\n",
    "from numpy import genfromtxt\n",
    "x_train = genfromtxt('train_data_multi.csv', delimiter=',')\n",
    "y_train = genfromtxt('train_labels_multi.csv', delimiter=',')\n",
    "x_test = genfromtxt('test_data_multi.csv', delimiter=',')\n",
    "y_test = genfromtxt('test_labels_multi.csv', delimiter=',')"
   ]
  },
  {
   "cell_type": "code",
   "execution_count": 7,
   "metadata": {},
   "outputs": [
    {
     "data": {
      "text/plain": [
       "((7895, 200), (837, 200), (7895,), (837,))"
      ]
     },
     "execution_count": 7,
     "metadata": {},
     "output_type": "execute_result"
    }
   ],
   "source": [
    "#shape\n",
    "x_train.shape,x_test.shape,y_train.shape,y_test.shape"
   ]
  },
  {
   "cell_type": "code",
   "execution_count": 8,
   "metadata": {},
   "outputs": [
    {
     "data": {
      "text/plain": [
       "((7895, 10), (837, 10))"
      ]
     },
     "execution_count": 8,
     "metadata": {},
     "output_type": "execute_result"
    }
   ],
   "source": [
    "#converting to one hot\n",
    "from keras.utils.np_utils import to_categorical\n",
    "y_train = to_categorical(y_train, num_classes=10)\n",
    "y_test = to_categorical(y_test, num_classes=10)\n",
    "y_train.shape,y_test.shape"
   ]
  },
  {
   "cell_type": "code",
   "execution_count": 10,
   "metadata": {},
   "outputs": [
    {
     "data": {
      "text/plain": [
       "((7895, 40, 5), (837, 40, 5))"
      ]
     },
     "execution_count": 10,
     "metadata": {},
     "output_type": "execute_result"
    }
   ],
   "source": [
    "import numpy as np\n",
    "#reshaping to 2D \n",
    "x_train=np.reshape(x_train,(x_train.shape[0], 40,5))\n",
    "x_test=np.reshape(x_test,(x_test.shape[0], 40,5))\n",
    "x_train.shape,x_test.shape"
   ]
  },
  {
   "cell_type": "code",
   "execution_count": 11,
   "metadata": {},
   "outputs": [],
   "source": [
    "#reshaping to shape required by CNN\n",
    "x_train=np.reshape(x_train,(x_train.shape[0], 40,5,1))\n",
    "x_test=np.reshape(x_test,(x_test.shape[0], 40,5,1))"
   ]
  },
  {
   "cell_type": "code",
   "execution_count": 12,
   "metadata": {},
   "outputs": [
    {
     "data": {
      "text/plain": [
       "((7895, 40, 5, 1), (837, 40, 5, 1))"
      ]
     },
     "execution_count": 12,
     "metadata": {},
     "output_type": "execute_result"
    }
   ],
   "source": [
    "#shapes\n",
    "x_train.shape,x_test.shape"
   ]
  },
  {
   "cell_type": "code",
   "execution_count": 13,
   "metadata": {},
   "outputs": [],
   "source": [
    "from keras import Sequential\n",
    "from keras.layers import Dense,Conv2D,MaxPooling2D,Flatten,Dropout"
   ]
  },
  {
   "cell_type": "code",
   "execution_count": 15,
   "metadata": {},
   "outputs": [],
   "source": [
    "#forming model\n",
    "model=Sequential()\n",
    "#adding layers and forming the model\n",
    "model.add(Conv2D(64,kernel_size=5,strides=1,padding=\"Same\",activation=\"relu\",input_shape=(40,5,1)))\n",
    "model.add(MaxPooling2D(padding=\"same\"))\n",
    "\n",
    "model.add(Conv2D(128,kernel_size=5,strides=1,padding=\"same\",activation=\"relu\"))\n",
    "model.add(MaxPooling2D(padding=\"same\"))\n",
    "model.add(Dropout(0.3))\n",
    "\n",
    "model.add(Flatten())\n",
    "\n",
    "model.add(Dense(256,activation=\"relu\"))\n",
    "model.add(Dropout(0.3))\n",
    "\n",
    "model.add(Dense(512,activation=\"relu\"))\n",
    "model.add(Dropout(0.3))\n",
    "\n",
    "model.add(Dense(10,activation=\"softmax\"))"
   ]
  },
  {
   "cell_type": "code",
   "execution_count": 17,
   "metadata": {},
   "outputs": [],
   "source": [
    "#compiling\n",
    "model.compile(optimizer=\"adam\",loss=\"categorical_crossentropy\",metrics=[\"accuracy\"])"
   ]
  },
  {
   "cell_type": "code",
   "execution_count": 18,
   "metadata": {},
   "outputs": [
    {
     "name": "stderr",
     "output_type": "stream",
     "text": [
      "W0825 02:01:48.107419 13028 deprecation.py:323] From C:\\Anaconda3\\lib\\site-packages\\tensorflow\\python\\ops\\math_grad.py:1250: add_dispatch_support.<locals>.wrapper (from tensorflow.python.ops.array_ops) is deprecated and will be removed in a future version.\n",
      "Instructions for updating:\n",
      "Use tf.where in 2.0, which has the same broadcast rule as np.where\n"
     ]
    },
    {
     "name": "stdout",
     "output_type": "stream",
     "text": [
      "Train on 7895 samples, validate on 837 samples\n",
      "Epoch 1/30\n",
      "7895/7895 [==============================] - 15s 2ms/step - loss: 2.0298 - acc: 0.3008 - val_loss: 1.5673 - val_acc: 0.4588\n",
      "Epoch 2/30\n",
      "7895/7895 [==============================] - 15s 2ms/step - loss: 1.4313 - acc: 0.5050 - val_loss: 1.3031 - val_acc: 0.5520\n",
      "Epoch 3/30\n",
      "7895/7895 [==============================] - 14s 2ms/step - loss: 1.1607 - acc: 0.6003 - val_loss: 1.1704 - val_acc: 0.5890\n",
      "Epoch 4/30\n",
      "7895/7895 [==============================] - 14s 2ms/step - loss: 0.9750 - acc: 0.6783 - val_loss: 1.0828 - val_acc: 0.6129\n",
      "Epoch 5/30\n",
      "7895/7895 [==============================] - 14s 2ms/step - loss: 0.8617 - acc: 0.7126 - val_loss: 1.0915 - val_acc: 0.6511\n",
      "Epoch 6/30\n",
      "7895/7895 [==============================] - 15s 2ms/step - loss: 0.7664 - acc: 0.7512 - val_loss: 1.0453 - val_acc: 0.6834\n",
      "Epoch 7/30\n",
      "7895/7895 [==============================] - 14s 2ms/step - loss: 0.6950 - acc: 0.7683 - val_loss: 1.0387 - val_acc: 0.6571\n",
      "Epoch 8/30\n",
      "7895/7895 [==============================] - 14s 2ms/step - loss: 0.6124 - acc: 0.7968 - val_loss: 1.0637 - val_acc: 0.6655\n",
      "Epoch 9/30\n",
      "7895/7895 [==============================] - 16s 2ms/step - loss: 0.5794 - acc: 0.8137 - val_loss: 1.0297 - val_acc: 0.6870\n",
      "Epoch 10/30\n",
      "7895/7895 [==============================] - 15s 2ms/step - loss: 0.5568 - acc: 0.8172 - val_loss: 1.0967 - val_acc: 0.6786\n",
      "Epoch 11/30\n",
      "7895/7895 [==============================] - 15s 2ms/step - loss: 0.5099 - acc: 0.8379 - val_loss: 0.9990 - val_acc: 0.7133\n",
      "Epoch 12/30\n",
      "7895/7895 [==============================] - 14s 2ms/step - loss: 0.4712 - acc: 0.8500 - val_loss: 0.9639 - val_acc: 0.7145\n",
      "Epoch 13/30\n",
      "7895/7895 [==============================] - 14s 2ms/step - loss: 0.4527 - acc: 0.8533 - val_loss: 0.9775 - val_acc: 0.7145\n",
      "Epoch 14/30\n",
      "7895/7895 [==============================] - 14s 2ms/step - loss: 0.4262 - acc: 0.8541 - val_loss: 1.1148 - val_acc: 0.7013\n",
      "Epoch 15/30\n",
      "7895/7895 [==============================] - 14s 2ms/step - loss: 0.3907 - acc: 0.8742 - val_loss: 1.1175 - val_acc: 0.6906\n",
      "Epoch 16/30\n",
      "7895/7895 [==============================] - 14s 2ms/step - loss: 0.3844 - acc: 0.8757 - val_loss: 1.0455 - val_acc: 0.7085\n",
      "Epoch 17/30\n",
      "7895/7895 [==============================] - 14s 2ms/step - loss: 0.3830 - acc: 0.8776 - val_loss: 1.1246 - val_acc: 0.6882\n",
      "Epoch 18/30\n",
      "7895/7895 [==============================] - 14s 2ms/step - loss: 0.3457 - acc: 0.8873 - val_loss: 1.1048 - val_acc: 0.6858\n",
      "Epoch 19/30\n",
      "7895/7895 [==============================] - 14s 2ms/step - loss: 0.3436 - acc: 0.8899 - val_loss: 1.1723 - val_acc: 0.6786\n",
      "Epoch 20/30\n",
      "7895/7895 [==============================] - 14s 2ms/step - loss: 0.3283 - acc: 0.8912 - val_loss: 1.1516 - val_acc: 0.6894\n",
      "Epoch 21/30\n",
      "7895/7895 [==============================] - 14s 2ms/step - loss: 0.3187 - acc: 0.8982 - val_loss: 1.1357 - val_acc: 0.7013\n",
      "Epoch 22/30\n",
      "7895/7895 [==============================] - 15s 2ms/step - loss: 0.2817 - acc: 0.9078 - val_loss: 1.1141 - val_acc: 0.7240\n",
      "Epoch 23/30\n",
      "7895/7895 [==============================] - 15s 2ms/step - loss: 0.3008 - acc: 0.9020 - val_loss: 1.1057 - val_acc: 0.7025\n",
      "Epoch 24/30\n",
      "7895/7895 [==============================] - 14s 2ms/step - loss: 0.2867 - acc: 0.9088 - val_loss: 0.9885 - val_acc: 0.7109\n",
      "Epoch 25/30\n",
      "7895/7895 [==============================] - 15s 2ms/step - loss: 0.3111 - acc: 0.9011 - val_loss: 1.2417 - val_acc: 0.6858\n",
      "Epoch 26/30\n",
      "7895/7895 [==============================] - 15s 2ms/step - loss: 0.2836 - acc: 0.9097 - val_loss: 1.0723 - val_acc: 0.7121\n",
      "Epoch 27/30\n",
      "7895/7895 [==============================] - 15s 2ms/step - loss: 0.2550 - acc: 0.9142 - val_loss: 1.0945 - val_acc: 0.7168\n",
      "Epoch 28/30\n",
      "7895/7895 [==============================] - 15s 2ms/step - loss: 0.2588 - acc: 0.9197 - val_loss: 1.0885 - val_acc: 0.6977\n",
      "Epoch 29/30\n",
      "7895/7895 [==============================] - 15s 2ms/step - loss: 0.2692 - acc: 0.9155 - val_loss: 1.1801 - val_acc: 0.7049\n",
      "Epoch 30/30\n",
      "7895/7895 [==============================] - 15s 2ms/step - loss: 0.2825 - acc: 0.9102 - val_loss: 1.0932 - val_acc: 0.7157\n"
     ]
    },
    {
     "data": {
      "text/plain": [
       "<keras.callbacks.History at 0x2386c006cf8>"
      ]
     },
     "execution_count": 18,
     "metadata": {},
     "output_type": "execute_result"
    }
   ],
   "source": [
    "#training the model\n",
    "model.fit(x_train,y_train,batch_size=50,epochs=30,validation_data=(x_test,y_test))"
   ]
  },
  {
   "cell_type": "code",
   "execution_count": 19,
   "metadata": {},
   "outputs": [
    {
     "name": "stdout",
     "output_type": "stream",
     "text": [
      "_________________________________________________________________\n",
      "Layer (type)                 Output Shape              Param #   \n",
      "=================================================================\n",
      "conv2d_3 (Conv2D)            (None, 40, 5, 64)         1664      \n",
      "_________________________________________________________________\n",
      "max_pooling2d_3 (MaxPooling2 (None, 20, 3, 64)         0         \n",
      "_________________________________________________________________\n",
      "conv2d_4 (Conv2D)            (None, 20, 3, 128)        204928    \n",
      "_________________________________________________________________\n",
      "max_pooling2d_4 (MaxPooling2 (None, 10, 2, 128)        0         \n",
      "_________________________________________________________________\n",
      "dropout_4 (Dropout)          (None, 10, 2, 128)        0         \n",
      "_________________________________________________________________\n",
      "flatten_2 (Flatten)          (None, 2560)              0         \n",
      "_________________________________________________________________\n",
      "dense_4 (Dense)              (None, 256)               655616    \n",
      "_________________________________________________________________\n",
      "dropout_5 (Dropout)          (None, 256)               0         \n",
      "_________________________________________________________________\n",
      "dense_5 (Dense)              (None, 512)               131584    \n",
      "_________________________________________________________________\n",
      "dropout_6 (Dropout)          (None, 512)               0         \n",
      "_________________________________________________________________\n",
      "dense_6 (Dense)              (None, 10)                5130      \n",
      "=================================================================\n",
      "Total params: 998,922\n",
      "Trainable params: 998,922\n",
      "Non-trainable params: 0\n",
      "_________________________________________________________________\n",
      "7895/7895 [==============================] - 3s 394us/step\n",
      "837/837 [==============================] - 0s 378us/step\n"
     ]
    }
   ],
   "source": [
    "model.summary()\n",
    "\n",
    "# Calculate pre-training accuracy \n",
    "score_train = model.evaluate(x_train, y_train, verbose=1)\n",
    "score_test = model.evaluate(x_test, y_test, verbose=1)\n",
    "accuracy_train = 100*score_train[1]\n",
    "accuracy_test = 100*score_test[1]"
   ]
  },
  {
   "cell_type": "code",
   "execution_count": 20,
   "metadata": {},
   "outputs": [
    {
     "name": "stdout",
     "output_type": "stream",
     "text": [
      "Training accuracy: 97.7201%\n",
      "Test accuracy: 71.5651%\n"
     ]
    }
   ],
   "source": [
    "print(\"Training accuracy: %.4f%%\" % accuracy_train)\n",
    "print(\"Test accuracy: %.4f%%\" % accuracy_test)"
   ]
  },
  {
   "cell_type": "code",
   "execution_count": null,
   "metadata": {},
   "outputs": [],
   "source": []
  }
 ],
 "metadata": {
  "kernelspec": {
   "display_name": "Python 3",
   "language": "python",
   "name": "python3"
  },
  "language_info": {
   "codemirror_mode": {
    "name": "ipython",
    "version": 3
   },
   "file_extension": ".py",
   "mimetype": "text/x-python",
   "name": "python",
   "nbconvert_exporter": "python",
   "pygments_lexer": "ipython3",
   "version": "3.6.9"
  }
 },
 "nbformat": 4,
 "nbformat_minor": 2
}
