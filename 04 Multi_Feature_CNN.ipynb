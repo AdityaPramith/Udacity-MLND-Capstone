{
 "cells": [
  {
   "cell_type": "markdown",
   "metadata": {},
   "source": [
    "# Urban Sounds Classification using Deep Learning\n",
    "\n",
    "## Udacity-MLND\n",
    "\n",
    "### Multiple_Feature_CNN"
   ]
  },
  {
   "cell_type": "code",
   "execution_count": 4,
   "metadata": {},
   "outputs": [],
   "source": [
    "#extracting data from csv files into numpy arrays from the data saved in 03 Multi_feature_MLP\n",
    "from numpy import genfromtxt\n",
    "x_train = genfromtxt('train_data_multi.csv', delimiter=',')\n",
    "y_train = genfromtxt('train_labels_multi.csv', delimiter=',')\n",
    "x_test = genfromtxt('test_data_multi.csv', delimiter=',')\n",
    "y_test = genfromtxt('test_labels_multi.csv', delimiter=',')"
   ]
  },
  {
   "cell_type": "code",
   "execution_count": 5,
   "metadata": {},
   "outputs": [
    {
     "data": {
      "text/plain": [
       "((7895, 200), (837, 200), (7895,), (837,))"
      ]
     },
     "execution_count": 5,
     "metadata": {},
     "output_type": "execute_result"
    }
   ],
   "source": [
    "#shape\n",
    "x_train.shape,x_test.shape,y_train.shape,y_test.shape"
   ]
  },
  {
   "cell_type": "code",
   "execution_count": 6,
   "metadata": {},
   "outputs": [
    {
     "data": {
      "text/plain": [
       "((7895, 10), (837, 10))"
      ]
     },
     "execution_count": 6,
     "metadata": {},
     "output_type": "execute_result"
    }
   ],
   "source": [
    "#converting to one hot\n",
    "from keras.utils.np_utils import to_categorical\n",
    "y_train = to_categorical(y_train, num_classes=10)\n",
    "y_test = to_categorical(y_test, num_classes=10)\n",
    "y_train.shape,y_test.shape"
   ]
  },
  {
   "cell_type": "code",
   "execution_count": 7,
   "metadata": {},
   "outputs": [
    {
     "data": {
      "text/plain": [
       "((7895, 40, 5), (837, 40, 5))"
      ]
     },
     "execution_count": 7,
     "metadata": {},
     "output_type": "execute_result"
    }
   ],
   "source": [
    "import numpy as np\n",
    "#reshaping to 2D \n",
    "x_train=np.reshape(x_train,(x_train.shape[0], 40,5))\n",
    "x_test=np.reshape(x_test,(x_test.shape[0], 40,5))\n",
    "x_train.shape,x_test.shape"
   ]
  },
  {
   "cell_type": "code",
   "execution_count": 8,
   "metadata": {},
   "outputs": [],
   "source": [
    "#reshaping to shape required by CNN\n",
    "x_train=np.reshape(x_train,(x_train.shape[0], 40,5,1))\n",
    "x_test=np.reshape(x_test,(x_test.shape[0], 40,5,1))"
   ]
  },
  {
   "cell_type": "code",
   "execution_count": 9,
   "metadata": {},
   "outputs": [
    {
     "data": {
      "text/plain": [
       "((7895, 40, 5, 1), (837, 40, 5, 1))"
      ]
     },
     "execution_count": 9,
     "metadata": {},
     "output_type": "execute_result"
    }
   ],
   "source": [
    "#shapes\n",
    "x_train.shape,x_test.shape"
   ]
  },
  {
   "cell_type": "code",
   "execution_count": 10,
   "metadata": {},
   "outputs": [],
   "source": [
    "from keras import Sequential\n",
    "from keras.layers import Dense,Conv2D,MaxPooling2D,Flatten,Dropout"
   ]
  },
  {
   "cell_type": "code",
   "execution_count": 13,
   "metadata": {},
   "outputs": [],
   "source": [
    "#forming model\n",
    "model=Sequential()\n",
    "#adding layers and forming the model\n",
    "model.add(Conv2D(64,kernel_size=5,strides=1,padding=\"Same\",activation=\"relu\",input_shape=(40,5,1)))\n",
    "model.add(MaxPooling2D(padding=\"same\"))\n",
    "\n",
    "model.add(Conv2D(128,kernel_size=5,strides=1,padding=\"same\",activation=\"relu\"))\n",
    "model.add(MaxPooling2D(padding=\"same\"))\n",
    "model.add(Dropout(0.3))\n",
    "\n",
    "model.add(Flatten())\n",
    "\n",
    "model.add(Dense(256,activation=\"relu\"))\n",
    "model.add(Dropout(0.3))\n",
    "\n",
    "model.add(Dense(512,activation=\"relu\"))\n",
    "model.add(Dropout(0.3))\n",
    "\n",
    "model.add(Dense(10,activation=\"softmax\"))"
   ]
  },
  {
   "cell_type": "code",
   "execution_count": 14,
   "metadata": {},
   "outputs": [],
   "source": [
    "#compiling\n",
    "model.compile(optimizer=\"adam\",loss=\"categorical_crossentropy\",metrics=[\"accuracy\"])"
   ]
  },
  {
   "cell_type": "code",
   "execution_count": 15,
   "metadata": {},
   "outputs": [
    {
     "name": "stderr",
     "output_type": "stream",
     "text": [
      "W0831 22:02:36.610103  9932 deprecation.py:323] From C:\\Anaconda3\\lib\\site-packages\\tensorflow\\python\\ops\\math_grad.py:1250: add_dispatch_support.<locals>.wrapper (from tensorflow.python.ops.array_ops) is deprecated and will be removed in a future version.\n",
      "Instructions for updating:\n",
      "Use tf.where in 2.0, which has the same broadcast rule as np.where\n"
     ]
    },
    {
     "name": "stdout",
     "output_type": "stream",
     "text": [
      "Train on 7895 samples, validate on 837 samples\n",
      "Epoch 1/50\n",
      "7895/7895 [==============================] - 20s 3ms/step - loss: 1.9952 - acc: 0.3020 - val_loss: 1.5338 - val_acc: 0.4695\n",
      "\n",
      "Epoch 00001: val_loss improved from inf to 1.53380, saving model to Saved_models/multi_CNN.hdf5\n",
      "Epoch 2/50\n",
      "7895/7895 [==============================] - 19s 2ms/step - loss: 1.4212 - acc: 0.5075 - val_loss: 1.3147 - val_acc: 0.5532\n",
      "\n",
      "Epoch 00002: val_loss improved from 1.53380 to 1.31474, saving model to Saved_models/multi_CNN.hdf5\n",
      "Epoch 3/50\n",
      "7895/7895 [==============================] - 15s 2ms/step - loss: 1.1245 - acc: 0.6148 - val_loss: 1.1409 - val_acc: 0.6284\n",
      "\n",
      "Epoch 00003: val_loss improved from 1.31474 to 1.14092, saving model to Saved_models/multi_CNN.hdf5\n",
      "Epoch 4/50\n",
      "7895/7895 [==============================] - 14s 2ms/step - loss: 0.9349 - acc: 0.6864 - val_loss: 1.1508 - val_acc: 0.6284\n",
      "\n",
      "Epoch 00004: val_loss did not improve from 1.14092\n",
      "Epoch 5/50\n",
      "7895/7895 [==============================] - 14s 2ms/step - loss: 0.8180 - acc: 0.7253 - val_loss: 1.0566 - val_acc: 0.6380\n",
      "\n",
      "Epoch 00005: val_loss improved from 1.14092 to 1.05659, saving model to Saved_models/multi_CNN.hdf5\n",
      "Epoch 6/50\n",
      "7895/7895 [==============================] - 13s 2ms/step - loss: 0.7351 - acc: 0.7560 - val_loss: 1.0080 - val_acc: 0.6559\n",
      "\n",
      "Epoch 00006: val_loss improved from 1.05659 to 1.00801, saving model to Saved_models/multi_CNN.hdf5\n",
      "Epoch 7/50\n",
      "7895/7895 [==============================] - 14s 2ms/step - loss: 0.6695 - acc: 0.7813 - val_loss: 1.0402 - val_acc: 0.6870\n",
      "\n",
      "Epoch 00007: val_loss did not improve from 1.00801\n",
      "Epoch 8/50\n",
      "7895/7895 [==============================] - 14s 2ms/step - loss: 0.5941 - acc: 0.8009 - val_loss: 0.9923 - val_acc: 0.6810\n",
      "\n",
      "Epoch 00008: val_loss improved from 1.00801 to 0.99230, saving model to Saved_models/multi_CNN.hdf5\n",
      "Epoch 9/50\n",
      "7895/7895 [==============================] - 14s 2ms/step - loss: 0.6006 - acc: 0.8070 - val_loss: 0.9420 - val_acc: 0.7121\n",
      "\n",
      "Epoch 00009: val_loss improved from 0.99230 to 0.94197, saving model to Saved_models/multi_CNN.hdf5\n",
      "Epoch 10/50\n",
      "7895/7895 [==============================] - 14s 2ms/step - loss: 0.5244 - acc: 0.8244 - val_loss: 0.9861 - val_acc: 0.6786\n",
      "\n",
      "Epoch 00010: val_loss did not improve from 0.94197\n",
      "Epoch 11/50\n",
      "7895/7895 [==============================] - 14s 2ms/step - loss: 0.4780 - acc: 0.8485 - val_loss: 0.9706 - val_acc: 0.6906\n",
      "\n",
      "Epoch 00011: val_loss did not improve from 0.94197\n",
      "Epoch 12/50\n",
      "7895/7895 [==============================] - 14s 2ms/step - loss: 0.4653 - acc: 0.8453 - val_loss: 0.8944 - val_acc: 0.7288\n",
      "\n",
      "Epoch 00012: val_loss improved from 0.94197 to 0.89439, saving model to Saved_models/multi_CNN.hdf5\n",
      "Epoch 13/50\n",
      "7895/7895 [==============================] - 14s 2ms/step - loss: 0.4413 - acc: 0.8565 - val_loss: 0.9249 - val_acc: 0.7097\n",
      "\n",
      "Epoch 00013: val_loss did not improve from 0.89439\n",
      "Epoch 14/50\n",
      "7895/7895 [==============================] - 14s 2ms/step - loss: 0.4039 - acc: 0.8694 - val_loss: 0.9848 - val_acc: 0.6918\n",
      "\n",
      "Epoch 00014: val_loss did not improve from 0.89439\n",
      "Epoch 15/50\n",
      "7895/7895 [==============================] - 15s 2ms/step - loss: 0.3961 - acc: 0.8675 - val_loss: 0.9405 - val_acc: 0.7180\n",
      "\n",
      "Epoch 00015: val_loss did not improve from 0.89439\n",
      "Epoch 16/50\n",
      "7895/7895 [==============================] - 16s 2ms/step - loss: 0.3648 - acc: 0.8797 - val_loss: 0.8660 - val_acc: 0.7312\n",
      "\n",
      "Epoch 00016: val_loss improved from 0.89439 to 0.86603, saving model to Saved_models/multi_CNN.hdf5\n",
      "Epoch 17/50\n",
      "7895/7895 [==============================] - 14s 2ms/step - loss: 0.3507 - acc: 0.8854 - val_loss: 0.9624 - val_acc: 0.7145\n",
      "\n",
      "Epoch 00017: val_loss did not improve from 0.86603\n",
      "Epoch 18/50\n",
      "7895/7895 [==============================] - 17s 2ms/step - loss: 0.3719 - acc: 0.8794 - val_loss: 0.8569 - val_acc: 0.7264\n",
      "\n",
      "Epoch 00018: val_loss improved from 0.86603 to 0.85690, saving model to Saved_models/multi_CNN.hdf5\n",
      "Epoch 19/50\n",
      "7895/7895 [==============================] - 15s 2ms/step - loss: 0.3535 - acc: 0.8868 - val_loss: 1.0902 - val_acc: 0.6679\n",
      "\n",
      "Epoch 00019: val_loss did not improve from 0.85690\n",
      "Epoch 20/50\n",
      "7895/7895 [==============================] - 16s 2ms/step - loss: 0.3290 - acc: 0.8921 - val_loss: 1.0159 - val_acc: 0.7061\n",
      "\n",
      "Epoch 00020: val_loss did not improve from 0.85690\n",
      "Epoch 21/50\n",
      "7895/7895 [==============================] - 16s 2ms/step - loss: 0.3194 - acc: 0.8974 - val_loss: 0.9550 - val_acc: 0.6906\n",
      "\n",
      "Epoch 00021: val_loss did not improve from 0.85690\n",
      "Epoch 22/50\n",
      "7895/7895 [==============================] - 16s 2ms/step - loss: 0.3154 - acc: 0.8973 - val_loss: 0.9377 - val_acc: 0.7061\n",
      "\n",
      "Epoch 00022: val_loss did not improve from 0.85690\n",
      "Epoch 23/50\n",
      "7895/7895 [==============================] - 16s 2ms/step - loss: 0.3084 - acc: 0.8982 - val_loss: 0.9346 - val_acc: 0.7240\n",
      "\n",
      "Epoch 00023: val_loss did not improve from 0.85690\n",
      "Epoch 24/50\n",
      "7895/7895 [==============================] - 16s 2ms/step - loss: 0.2924 - acc: 0.9053 - val_loss: 1.2655 - val_acc: 0.6703\n",
      "\n",
      "Epoch 00024: val_loss did not improve from 0.85690\n",
      "Epoch 25/50\n",
      "7895/7895 [==============================] - 16s 2ms/step - loss: 0.2678 - acc: 0.9108 - val_loss: 0.9509 - val_acc: 0.7360\n",
      "\n",
      "Epoch 00025: val_loss did not improve from 0.85690\n",
      "Epoch 26/50\n",
      "7895/7895 [==============================] - 16s 2ms/step - loss: 0.2640 - acc: 0.9135 - val_loss: 0.9545 - val_acc: 0.7276 0.2629 -\n",
      "\n",
      "Epoch 00026: val_loss did not improve from 0.85690\n",
      "Epoch 27/50\n",
      "7895/7895 [==============================] - 16s 2ms/step - loss: 0.2562 - acc: 0.9175 - val_loss: 0.9348 - val_acc: 0.7395\n",
      "\n",
      "Epoch 00027: val_loss did not improve from 0.85690\n",
      "Epoch 28/50\n",
      "7895/7895 [==============================] - 16s 2ms/step - loss: 0.2561 - acc: 0.9177 - val_loss: 0.9509 - val_acc: 0.7204\n",
      "\n",
      "Epoch 00028: val_loss did not improve from 0.85690\n",
      "Epoch 29/50\n",
      "7895/7895 [==============================] - 16s 2ms/step - loss: 0.2546 - acc: 0.9167 - val_loss: 0.9669 - val_acc: 0.7204\n",
      "\n",
      "Epoch 00029: val_loss did not improve from 0.85690\n",
      "Epoch 30/50\n",
      "7895/7895 [==============================] - 17s 2ms/step - loss: 0.2432 - acc: 0.9201 - val_loss: 1.0305 - val_acc: 0.7013\n",
      "\n",
      "Epoch 00030: val_loss did not improve from 0.85690\n",
      "Epoch 31/50\n",
      "7895/7895 [==============================] - 16s 2ms/step - loss: 0.2413 - acc: 0.9239 - val_loss: 1.1383 - val_acc: 0.7025\n",
      "\n",
      "Epoch 00031: val_loss did not improve from 0.85690\n",
      "Epoch 32/50\n",
      "7895/7895 [==============================] - 16s 2ms/step - loss: 0.2411 - acc: 0.9217 - val_loss: 1.0046 - val_acc: 0.7121\n",
      "\n",
      "Epoch 00032: val_loss did not improve from 0.85690\n",
      "Epoch 33/50\n",
      "7895/7895 [==============================] - 16s 2ms/step - loss: 0.2332 - acc: 0.9262 - val_loss: 0.9505 - val_acc: 0.7192\n",
      "\n",
      "Epoch 00033: val_loss did not improve from 0.85690\n",
      "Epoch 34/50\n",
      "7895/7895 [==============================] - 16s 2ms/step - loss: 0.2246 - acc: 0.9316 - val_loss: 1.2515 - val_acc: 0.6810\n",
      "\n",
      "Epoch 00034: val_loss did not improve from 0.85690\n",
      "Epoch 35/50\n",
      "7895/7895 [==============================] - 16s 2ms/step - loss: 0.2146 - acc: 0.9322 - val_loss: 1.2673 - val_acc: 0.6965\n",
      "\n",
      "Epoch 00035: val_loss did not improve from 0.85690\n",
      "Epoch 36/50\n",
      "7895/7895 [==============================] - 16s 2ms/step - loss: 0.2415 - acc: 0.9246 - val_loss: 1.2265 - val_acc: 0.6989\n",
      "\n",
      "Epoch 00036: val_loss did not improve from 0.85690\n",
      "Epoch 37/50\n",
      "7895/7895 [==============================] - 16s 2ms/step - loss: 0.2454 - acc: 0.9217 - val_loss: 1.2453 - val_acc: 0.6822\n",
      "\n",
      "Epoch 00037: val_loss did not improve from 0.85690\n",
      "Epoch 38/50\n",
      "7895/7895 [==============================] - 17s 2ms/step - loss: 0.2027 - acc: 0.9376 - val_loss: 1.0418 - val_acc: 0.7479\n",
      "\n",
      "Epoch 00038: val_loss did not improve from 0.85690\n",
      "Epoch 39/50\n",
      "7895/7895 [==============================] - 17s 2ms/step - loss: 0.2137 - acc: 0.9327 - val_loss: 1.0735 - val_acc: 0.7168\n",
      "\n",
      "Epoch 00039: val_loss did not improve from 0.85690\n",
      "Epoch 40/50\n",
      "7895/7895 [==============================] - 17s 2ms/step - loss: 0.2057 - acc: 0.9354 - val_loss: 1.2208 - val_acc: 0.7300\n",
      "\n",
      "Epoch 00040: val_loss did not improve from 0.85690\n",
      "Epoch 41/50\n",
      "7895/7895 [==============================] - 16s 2ms/step - loss: 0.2265 - acc: 0.9289 - val_loss: 1.2003 - val_acc: 0.6858\n",
      "\n",
      "Epoch 00041: val_loss did not improve from 0.85690\n",
      "Epoch 42/50\n"
     ]
    },
    {
     "name": "stdout",
     "output_type": "stream",
     "text": [
      "7895/7895 [==============================] - 16s 2ms/step - loss: 0.2042 - acc: 0.9341 - val_loss: 0.9920 - val_acc: 0.7133\n",
      "\n",
      "Epoch 00042: val_loss did not improve from 0.85690\n",
      "Epoch 43/50\n",
      "7895/7895 [==============================] - 16s 2ms/step - loss: 0.2029 - acc: 0.9327 - val_loss: 1.1331 - val_acc: 0.7276\n",
      "\n",
      "Epoch 00043: val_loss did not improve from 0.85690\n",
      "Epoch 44/50\n",
      "7895/7895 [==============================] - 16s 2ms/step - loss: 0.2376 - acc: 0.9297 - val_loss: 1.2637 - val_acc: 0.6667\n",
      "\n",
      "Epoch 00044: val_loss did not improve from 0.85690\n",
      "Epoch 45/50\n",
      "7895/7895 [==============================] - 17s 2ms/step - loss: 0.2285 - acc: 0.9335 - val_loss: 1.1511 - val_acc: 0.7013\n",
      "\n",
      "Epoch 00045: val_loss did not improve from 0.85690\n",
      "Epoch 46/50\n",
      "7895/7895 [==============================] - 18s 2ms/step - loss: 0.2361 - acc: 0.9272 - val_loss: 1.0567 - val_acc: 0.7061\n",
      "\n",
      "Epoch 00046: val_loss did not improve from 0.85690\n",
      "Epoch 47/50\n",
      "7895/7895 [==============================] - 18s 2ms/step - loss: 0.1912 - acc: 0.9414 - val_loss: 1.0508 - val_acc: 0.7228\n",
      "\n",
      "Epoch 00047: val_loss did not improve from 0.85690\n",
      "Epoch 48/50\n",
      "7895/7895 [==============================] - 16s 2ms/step - loss: 0.1965 - acc: 0.9391 - val_loss: 1.2042 - val_acc: 0.6989\n",
      "\n",
      "Epoch 00048: val_loss did not improve from 0.85690\n",
      "Epoch 49/50\n",
      "7895/7895 [==============================] - 16s 2ms/step - loss: 0.1741 - acc: 0.9459 - val_loss: 1.2758 - val_acc: 0.6930\n",
      "\n",
      "Epoch 00049: val_loss did not improve from 0.85690\n",
      "Epoch 50/50\n",
      "7895/7895 [==============================] - 17s 2ms/step - loss: 0.1634 - acc: 0.9506 - val_loss: 1.0713 - val_acc: 0.7228\n",
      "\n",
      "Epoch 00050: val_loss did not improve from 0.85690\n"
     ]
    },
    {
     "data": {
      "text/plain": [
       "<keras.callbacks.History at 0x16a580c0cc0>"
      ]
     },
     "execution_count": 15,
     "metadata": {},
     "output_type": "execute_result"
    }
   ],
   "source": [
    "from keras.callbacks import ModelCheckpoint \n",
    "#fitting\n",
    "model.fit(x_train,y_train,epochs=50,validation_data=(x_test,y_test),batch_size=50,callbacks=[ModelCheckpoint(filepath='Saved_models/multi_CNN.hdf5', verbose=1, save_best_only=True)], verbose=1)"
   ]
  },
  {
   "cell_type": "code",
   "execution_count": 17,
   "metadata": {},
   "outputs": [
    {
     "name": "stdout",
     "output_type": "stream",
     "text": [
      "_________________________________________________________________\n",
      "Layer (type)                 Output Shape              Param #   \n",
      "=================================================================\n",
      "conv2d_3 (Conv2D)            (None, 40, 5, 64)         1664      \n",
      "_________________________________________________________________\n",
      "max_pooling2d_3 (MaxPooling2 (None, 20, 3, 64)         0         \n",
      "_________________________________________________________________\n",
      "conv2d_4 (Conv2D)            (None, 20, 3, 128)        204928    \n",
      "_________________________________________________________________\n",
      "max_pooling2d_4 (MaxPooling2 (None, 10, 2, 128)        0         \n",
      "_________________________________________________________________\n",
      "dropout_4 (Dropout)          (None, 10, 2, 128)        0         \n",
      "_________________________________________________________________\n",
      "flatten_2 (Flatten)          (None, 2560)              0         \n",
      "_________________________________________________________________\n",
      "dense_4 (Dense)              (None, 256)               655616    \n",
      "_________________________________________________________________\n",
      "dropout_5 (Dropout)          (None, 256)               0         \n",
      "_________________________________________________________________\n",
      "dense_5 (Dense)              (None, 512)               131584    \n",
      "_________________________________________________________________\n",
      "dropout_6 (Dropout)          (None, 512)               0         \n",
      "_________________________________________________________________\n",
      "dense_6 (Dense)              (None, 10)                5130      \n",
      "=================================================================\n",
      "Total params: 998,922\n",
      "Trainable params: 998,922\n",
      "Non-trainable params: 0\n",
      "_________________________________________________________________\n",
      "7895/7895 [==============================] - 3s 366us/step\n",
      "837/837 [==============================] - 0s 341us/step\n"
     ]
    }
   ],
   "source": [
    "model.summary()\n",
    "\n",
    "# Calculate training accuracy \n",
    "score_train = model.evaluate(x_train, y_train, verbose=1)\n",
    "score_test = model.evaluate(x_test, y_test, verbose=1)\n",
    "accuracy_train = 100*score_train[1]\n",
    "accuracy_test = 100*score_test[1]"
   ]
  },
  {
   "cell_type": "code",
   "execution_count": 18,
   "metadata": {},
   "outputs": [
    {
     "name": "stdout",
     "output_type": "stream",
     "text": [
      "Training accuracy: 98.9614%\n",
      "Test accuracy: 72.2820%\n"
     ]
    }
   ],
   "source": [
    "print(\"Training accuracy: %.4f%%\" % accuracy_train)\n",
    "print(\"Test accuracy: %.4f%%\" % accuracy_test)"
   ]
  },
  {
   "cell_type": "code",
   "execution_count": 22,
   "metadata": {},
   "outputs": [],
   "source": [
    "import librosa\n",
    "def extract_features(file_path):\n",
    "    y,sr=librosa.load(file_path)\n",
    "    mfccs = np.mean(librosa.feature.mfcc(y, sr, n_mfcc=40).T,axis=0)\n",
    "    melspectrogram = np.mean(librosa.feature.melspectrogram(y=y, sr=sr, n_mels=40,fmax=8000).T,axis=0)\n",
    "    chroma_stft=np.mean(librosa.feature.chroma_stft(y=y, sr=sr,n_chroma=40).T,axis=0)\n",
    "    chroma_cq = np.mean(librosa.feature.chroma_cqt(y=y, sr=sr,n_chroma=40).T,axis=0)\n",
    "    chroma_cens = np.mean(librosa.feature.chroma_cens(y=y, sr=sr,n_chroma=40).T,axis=0)\n",
    "    features=np.reshape(np.vstack((mfccs,melspectrogram,chroma_stft,chroma_cq,chroma_cens)),(1,40,5,1))\n",
    "    #print(features.shape)\n",
    "    return features"
   ]
  },
  {
   "cell_type": "code",
   "execution_count": 23,
   "metadata": {},
   "outputs": [],
   "source": [
    "class_lable=[\"air_conditioner\",\"car_horn\",\"children_playing\",\"dog_bark\",\"drilling\",\"engine_idling\",\"gun_shot\",\"jackhammer\",\"siren\",\"street_music\"]\n",
    "def print_prediction(file_path):\n",
    "    features = extract_features(file_path)\n",
    "    predicted_vector = model.predict_classes(features)\n",
    "    predicted_class = class_lable[predicted_vector[0]] \n",
    "    print(\"The predicted class is:\", predicted_class, '\\n') "
   ]
  },
  {
   "cell_type": "code",
   "execution_count": 24,
   "metadata": {},
   "outputs": [
    {
     "name": "stdout",
     "output_type": "stream",
     "text": [
      "The predicted class is: gun_shot \n",
      "\n"
     ]
    }
   ],
   "source": [
    "file_path='UrbanSound8K/audio/fold10/200460-6-1-0.wav'\n",
    "print_prediction(file_path)"
   ]
  },
  {
   "cell_type": "code",
   "execution_count": 25,
   "metadata": {},
   "outputs": [
    {
     "name": "stdout",
     "output_type": "stream",
     "text": [
      "The predicted class is: street_music \n",
      "\n"
     ]
    }
   ],
   "source": [
    "file_path='Sample Auido/Car_horn.wav'\n",
    "print_prediction(file_path)"
   ]
  },
  {
   "cell_type": "code",
   "execution_count": 26,
   "metadata": {},
   "outputs": [
    {
     "name": "stdout",
     "output_type": "stream",
     "text": [
      "The predicted class is: dog_bark \n",
      "\n"
     ]
    }
   ],
   "source": [
    "file_path='Sample Auido/dog_bark.wav'\n",
    "print_prediction(file_path)"
   ]
  },
  {
   "cell_type": "code",
   "execution_count": 32,
   "metadata": {},
   "outputs": [
    {
     "name": "stdout",
     "output_type": "stream",
     "text": [
      "The predicted class is: drilling \n",
      "\n"
     ]
    }
   ],
   "source": [
    "file_path='Sample Auido/drilling.wav'\n",
    "print_prediction(file_path)"
   ]
  },
  {
   "cell_type": "code",
   "execution_count": 31,
   "metadata": {},
   "outputs": [
    {
     "name": "stdout",
     "output_type": "stream",
     "text": [
      "The predicted class is: street_music \n",
      "\n"
     ]
    }
   ],
   "source": [
    "file_path='Sample Auido/street_music.wav'\n",
    "print_prediction(file_path)"
   ]
  },
  {
   "cell_type": "code",
   "execution_count": 33,
   "metadata": {},
   "outputs": [
    {
     "name": "stdout",
     "output_type": "stream",
     "text": [
      "The predicted class is: engine_idling \n",
      "\n"
     ]
    }
   ],
   "source": [
    "file_path='Sample Auido/engine.wav'\n",
    "print_prediction(file_path)"
   ]
  },
  {
   "cell_type": "code",
   "execution_count": null,
   "metadata": {},
   "outputs": [],
   "source": []
  }
 ],
 "metadata": {
  "kernelspec": {
   "display_name": "Python 3",
   "language": "python",
   "name": "python3"
  },
  "language_info": {
   "codemirror_mode": {
    "name": "ipython",
    "version": 3
   },
   "file_extension": ".py",
   "mimetype": "text/x-python",
   "name": "python",
   "nbconvert_exporter": "python",
   "pygments_lexer": "ipython3",
   "version": "3.6.9"
  }
 },
 "nbformat": 4,
 "nbformat_minor": 2
}
